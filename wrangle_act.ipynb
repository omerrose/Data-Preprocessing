{
 "cells": [
  {
   "cell_type": "code",
   "execution_count": 930,
   "id": "3737f98d",
   "metadata": {
    "ExecuteTime": {
     "end_time": "2022-12-22T11:52:23.150918Z",
     "start_time": "2022-12-22T11:52:22.832954Z"
    }
   },
   "outputs": [],
   "source": [
    "import tweepy\n",
    "import pandas as pd \n",
    "import numpy as np\n",
    "import requests\n",
    "import json \n",
    "import re"
   ]
  },
  {
   "cell_type": "markdown",
   "id": "7daa4c6d",
   "metadata": {},
   "source": [
    "## Gather"
   ]
  },
  {
   "cell_type": "markdown",
   "id": "6dc19aaa",
   "metadata": {},
   "source": [
    "#### Gathering three data sources: \n",
    "- CSV file\n",
    "- Data scraping from a web-page\n",
    "- data from an API"
   ]
  },
  {
   "cell_type": "code",
   "execution_count": 931,
   "id": "74ce2f12",
   "metadata": {
    "ExecuteTime": {
     "end_time": "2022-12-22T11:52:24.505991Z",
     "start_time": "2022-12-22T11:52:23.178243Z"
    },
    "scrolled": false
   },
   "outputs": [
    {
     "data": {
      "text/html": [
       "<div>\n",
       "<style scoped>\n",
       "    .dataframe tbody tr th:only-of-type {\n",
       "        vertical-align: middle;\n",
       "    }\n",
       "\n",
       "    .dataframe tbody tr th {\n",
       "        vertical-align: top;\n",
       "    }\n",
       "\n",
       "    .dataframe thead th {\n",
       "        text-align: right;\n",
       "    }\n",
       "</style>\n",
       "<table border=\"1\" class=\"dataframe\">\n",
       "  <thead>\n",
       "    <tr style=\"text-align: right;\">\n",
       "      <th></th>\n",
       "      <th>tweet_id</th>\n",
       "      <th>in_reply_to_status_id</th>\n",
       "      <th>in_reply_to_user_id</th>\n",
       "      <th>timestamp</th>\n",
       "      <th>source</th>\n",
       "      <th>text</th>\n",
       "      <th>retweeted_status_id</th>\n",
       "      <th>retweeted_status_user_id</th>\n",
       "      <th>retweeted_status_timestamp</th>\n",
       "      <th>expanded_urls</th>\n",
       "      <th>rating_numerator</th>\n",
       "      <th>rating_denominator</th>\n",
       "      <th>name</th>\n",
       "      <th>doggo</th>\n",
       "      <th>floofer</th>\n",
       "      <th>pupper</th>\n",
       "      <th>puppo</th>\n",
       "    </tr>\n",
       "  </thead>\n",
       "  <tbody>\n",
       "    <tr>\n",
       "      <th>0</th>\n",
       "      <td>892420643555336193</td>\n",
       "      <td>NaN</td>\n",
       "      <td>NaN</td>\n",
       "      <td>2017-08-01 16:23:56 +0000</td>\n",
       "      <td>&lt;a href=\"http://twitter.com/download/iphone\" rel=\"nofollow\"&gt;Twitter for iPhone&lt;/a&gt;</td>\n",
       "      <td>This is Phineas. He's a mystical boy. Only ever appears in the hole of a donut. 13/10 https://t.co/MgUWQ76dJU</td>\n",
       "      <td>NaN</td>\n",
       "      <td>NaN</td>\n",
       "      <td>NaN</td>\n",
       "      <td>https://twitter.com/dog_rates/status/892420643555336193/photo/1</td>\n",
       "      <td>13</td>\n",
       "      <td>10</td>\n",
       "      <td>Phineas</td>\n",
       "      <td>None</td>\n",
       "      <td>None</td>\n",
       "      <td>None</td>\n",
       "      <td>None</td>\n",
       "    </tr>\n",
       "  </tbody>\n",
       "</table>\n",
       "</div>"
      ],
      "text/plain": [
       "             tweet_id  in_reply_to_status_id  in_reply_to_user_id  \\\n",
       "0  892420643555336193                    NaN                  NaN   \n",
       "\n",
       "                   timestamp  \\\n",
       "0  2017-08-01 16:23:56 +0000   \n",
       "\n",
       "                                                                               source  \\\n",
       "0  <a href=\"http://twitter.com/download/iphone\" rel=\"nofollow\">Twitter for iPhone</a>   \n",
       "\n",
       "                                                                                                            text  \\\n",
       "0  This is Phineas. He's a mystical boy. Only ever appears in the hole of a donut. 13/10 https://t.co/MgUWQ76dJU   \n",
       "\n",
       "   retweeted_status_id  retweeted_status_user_id retweeted_status_timestamp  \\\n",
       "0                  NaN                       NaN                        NaN   \n",
       "\n",
       "                                                     expanded_urls  \\\n",
       "0  https://twitter.com/dog_rates/status/892420643555336193/photo/1   \n",
       "\n",
       "   rating_numerator  rating_denominator     name doggo floofer pupper puppo  \n",
       "0                13                  10  Phineas  None    None   None  None  "
      ]
     },
     "execution_count": 931,
     "metadata": {},
     "output_type": "execute_result"
    }
   ],
   "source": [
    "df_archive = pd.read_csv('twitter-archive-enhanced.csv')\n",
    "df_archive.head(1)"
   ]
  },
  {
   "cell_type": "code",
   "execution_count": 932,
   "id": "04efd877",
   "metadata": {
    "ExecuteTime": {
     "end_time": "2022-12-22T11:52:25.563697Z",
     "start_time": "2022-12-22T11:52:24.505991Z"
    }
   },
   "outputs": [],
   "source": [
    "url = \"https://d17h27t6h515a5.cloudfront.net/topher/2017/August/599fd2ad_image-predictions/image-predictions.tsv\"\n",
    "response = requests.get(url)\n"
   ]
  },
  {
   "cell_type": "code",
   "execution_count": 933,
   "id": "d1d140e7",
   "metadata": {
    "ExecuteTime": {
     "end_time": "2022-12-22T11:52:25.595170Z",
     "start_time": "2022-12-22T11:52:25.568524Z"
    }
   },
   "outputs": [],
   "source": [
    "with open(\"image_predictions.tsv\", mode='wb') as file:\n",
    "    file.write(response.content)"
   ]
  },
  {
   "cell_type": "code",
   "execution_count": 934,
   "id": "288b44cf",
   "metadata": {
    "ExecuteTime": {
     "end_time": "2022-12-22T11:52:25.951243Z",
     "start_time": "2022-12-22T11:52:25.604975Z"
    },
    "scrolled": true
   },
   "outputs": [
    {
     "data": {
      "text/html": [
       "<div>\n",
       "<style scoped>\n",
       "    .dataframe tbody tr th:only-of-type {\n",
       "        vertical-align: middle;\n",
       "    }\n",
       "\n",
       "    .dataframe tbody tr th {\n",
       "        vertical-align: top;\n",
       "    }\n",
       "\n",
       "    .dataframe thead th {\n",
       "        text-align: right;\n",
       "    }\n",
       "</style>\n",
       "<table border=\"1\" class=\"dataframe\">\n",
       "  <thead>\n",
       "    <tr style=\"text-align: right;\">\n",
       "      <th></th>\n",
       "      <th>tweet_id</th>\n",
       "      <th>jpg_url</th>\n",
       "      <th>img_num</th>\n",
       "      <th>p1</th>\n",
       "      <th>p1_conf</th>\n",
       "      <th>p1_dog</th>\n",
       "      <th>p2</th>\n",
       "      <th>p2_conf</th>\n",
       "      <th>p2_dog</th>\n",
       "      <th>p3</th>\n",
       "      <th>p3_conf</th>\n",
       "      <th>p3_dog</th>\n",
       "    </tr>\n",
       "  </thead>\n",
       "  <tbody>\n",
       "    <tr>\n",
       "      <th>0</th>\n",
       "      <td>666020888022790149</td>\n",
       "      <td>https://pbs.twimg.com/media/CT4udn0WwAA0aMy.jpg</td>\n",
       "      <td>1</td>\n",
       "      <td>Welsh_springer_spaniel</td>\n",
       "      <td>0.465074</td>\n",
       "      <td>True</td>\n",
       "      <td>collie</td>\n",
       "      <td>0.156665</td>\n",
       "      <td>True</td>\n",
       "      <td>Shetland_sheepdog</td>\n",
       "      <td>0.061428</td>\n",
       "      <td>True</td>\n",
       "    </tr>\n",
       "  </tbody>\n",
       "</table>\n",
       "</div>"
      ],
      "text/plain": [
       "             tweet_id                                          jpg_url  \\\n",
       "0  666020888022790149  https://pbs.twimg.com/media/CT4udn0WwAA0aMy.jpg   \n",
       "\n",
       "   img_num                      p1   p1_conf  p1_dog      p2   p2_conf  \\\n",
       "0        1  Welsh_springer_spaniel  0.465074    True  collie  0.156665   \n",
       "\n",
       "   p2_dog                 p3   p3_conf  p3_dog  \n",
       "0    True  Shetland_sheepdog  0.061428    True  "
      ]
     },
     "execution_count": 934,
     "metadata": {},
     "output_type": "execute_result"
    }
   ],
   "source": [
    "df_predict = pd.read_csv('image_predictions.tsv', sep='\\t', header=0)\n",
    "df_predict.head(1)"
   ]
  },
  {
   "cell_type": "raw",
   "id": "77223d2c",
   "metadata": {
    "ExecuteTime": {
     "end_time": "2022-12-20T08:58:06.563061Z",
     "start_time": "2022-12-20T08:57:43.262803Z"
    }
   },
   "source": [
    "#consumer_key = \"\" # put here your API Key\n",
    "#consumer_secret =\"\" # put here your API Key Secret\n",
    "#auth = tweepy.AppAuthHandler(consumer_key, consumer_secret)\n",
    "\n"
   ]
  },
  {
   "cell_type": "raw",
   "id": "ec7d372d",
   "metadata": {
    "ExecuteTime": {
     "end_time": "2022-12-20T08:58:09.843976Z",
     "start_time": "2022-12-20T08:58:09.816050Z"
    }
   },
   "source": [
    "api = tweepy.API(auth, wait_on_rate_limit=True)"
   ]
  },
  {
   "cell_type": "raw",
   "id": "413ec991",
   "metadata": {
    "ExecuteTime": {
     "end_time": "2022-12-20T08:58:11.530180Z",
     "start_time": "2022-12-20T08:58:11.510233Z"
    }
   },
   "source": [
    "tweet_ids = df_archive.tweet_id.values\n",
    "len(tweet_ids)"
   ]
  },
  {
   "cell_type": "raw",
   "id": "2aa6d7cd",
   "metadata": {
    "ExecuteTime": {
     "end_time": "2022-12-20T09:11:04.462030Z",
     "start_time": "2022-12-20T08:58:34.423664Z"
    },
    "scrolled": false
   },
   "source": [
    "%%time\n",
    "import json\n",
    "# Query Twitter's API for JSON data for each tweet ID in the Twitter archive\n",
    "count = 0\n",
    "fails_dict = {}\n",
    "# Save each tweet's returned JSON as a new line in a .txt file\n",
    "with open('tweet_json.txt', 'w') as outfile:\n",
    "# This loop will likely take 20-30 minutes to run because of Twitter's rate limit\n",
    "    for tweet_id in tweet_ids:\n",
    "        count += 1\n",
    "        print(str(count) + \": \" + str(tweet_id))\n",
    "        try:\n",
    "            tweet = api.get_status(tweet_id, tweet_mode='extended')\n",
    "            json.dump(tweet._json, outfile)\n",
    "            print(\"Success\")\n",
    "            outfile.write('\\n')\n",
    "        except Exception as e:\n",
    "            print(\"Fail\")\n",
    "            fails_dict[tweet_id] = e\n",
    "            \n",
    "            \n",
    "print(fails_dict)"
   ]
  },
  {
   "cell_type": "code",
   "execution_count": 935,
   "id": "16739e8d",
   "metadata": {
    "ExecuteTime": {
     "end_time": "2022-12-22T11:52:29.023197Z",
     "start_time": "2022-12-22T11:52:25.954237Z"
    }
   },
   "outputs": [
    {
     "data": {
      "text/html": [
       "<div>\n",
       "<style scoped>\n",
       "    .dataframe tbody tr th:only-of-type {\n",
       "        vertical-align: middle;\n",
       "    }\n",
       "\n",
       "    .dataframe tbody tr th {\n",
       "        vertical-align: top;\n",
       "    }\n",
       "\n",
       "    .dataframe thead th {\n",
       "        text-align: right;\n",
       "    }\n",
       "</style>\n",
       "<table border=\"1\" class=\"dataframe\">\n",
       "  <thead>\n",
       "    <tr style=\"text-align: right;\">\n",
       "      <th></th>\n",
       "      <th>id</th>\n",
       "      <th>retweet_count</th>\n",
       "      <th>favorite_count</th>\n",
       "    </tr>\n",
       "  </thead>\n",
       "  <tbody>\n",
       "    <tr>\n",
       "      <th>0</th>\n",
       "      <td>892420643555336193</td>\n",
       "      <td>8853</td>\n",
       "      <td>39467</td>\n",
       "    </tr>\n",
       "    <tr>\n",
       "      <th>1</th>\n",
       "      <td>892177421306343426</td>\n",
       "      <td>6514</td>\n",
       "      <td>33819</td>\n",
       "    </tr>\n",
       "    <tr>\n",
       "      <th>2</th>\n",
       "      <td>891815181378084864</td>\n",
       "      <td>4328</td>\n",
       "      <td>25461</td>\n",
       "    </tr>\n",
       "    <tr>\n",
       "      <th>3</th>\n",
       "      <td>891689557279858688</td>\n",
       "      <td>8964</td>\n",
       "      <td>42908</td>\n",
       "    </tr>\n",
       "    <tr>\n",
       "      <th>4</th>\n",
       "      <td>891327558926688256</td>\n",
       "      <td>9774</td>\n",
       "      <td>41048</td>\n",
       "    </tr>\n",
       "  </tbody>\n",
       "</table>\n",
       "</div>"
      ],
      "text/plain": [
       "                   id  retweet_count  favorite_count\n",
       "0  892420643555336193           8853           39467\n",
       "1  892177421306343426           6514           33819\n",
       "2  891815181378084864           4328           25461\n",
       "3  891689557279858688           8964           42908\n",
       "4  891327558926688256           9774           41048"
      ]
     },
     "execution_count": 935,
     "metadata": {},
     "output_type": "execute_result"
    }
   ],
   "source": [
    "df_tweet_api = pd.read_json('tweet-json.txt', lines=True)\n",
    "df_tweet_api = df_tweet_api[[ 'id', 'retweet_count', 'favorite_count']]\n",
    "df_tweet_api.head()"
   ]
  },
  {
   "cell_type": "code",
   "execution_count": 936,
   "id": "1299d072",
   "metadata": {
    "ExecuteTime": {
     "end_time": "2022-12-22T11:52:29.134396Z",
     "start_time": "2022-12-22T11:52:29.031700Z"
    },
    "scrolled": false
   },
   "outputs": [],
   "source": [
    "archive_predict_api = df_archive.merge(df_predict, on='tweet_id', how='left') \\\n",
    "                        .merge(df_tweet_api, left_on='tweet_id', right_on='id', how='left')\n",
    "\n"
   ]
  },
  {
   "cell_type": "code",
   "execution_count": 937,
   "id": "39d58363",
   "metadata": {
    "ExecuteTime": {
     "end_time": "2022-12-22T11:52:29.260088Z",
     "start_time": "2022-12-22T11:52:29.137328Z"
    }
   },
   "outputs": [],
   "source": [
    "archive_predict_api.to_csv('we_rate_dogs.csv', index=False)"
   ]
  },
  {
   "cell_type": "markdown",
   "id": "042e8fb0",
   "metadata": {},
   "source": [
    "# Assess\n",
    "### Quality Issues\n",
    "- Remove original ratings without an image \n",
    "- timestamp: remove '+0000' and change data type \n",
    "- img_num: change data type from float to int \n",
    "- p1,p2,p3: change all names to Lowercase + remove under scores \n",
    "- retweet count: change datatype from float to int \n",
    "- favorite_count: change datatype from float to int \n",
    "- rating_denominator: correct all values to 10\n",
    "- rating_numerator: correct all values by rating_denominator column\n",
    "- name: change 'None' to null, change 'a' to null \n",
    "- doggo,floofer,pupper,puppo change 'None' to null \n",
    "\n",
    "\n",
    "\n",
    "\n",
    "\n",
    "### Tidiness Issues\n",
    "- Combine 3 data sources to 1 table \n",
    "- Combine the columns: doggo,floofer,pupper,puppo under stage column\n",
    "\n"
   ]
  },
  {
   "cell_type": "code",
   "execution_count": 938,
   "id": "8d7cdd64",
   "metadata": {
    "ExecuteTime": {
     "end_time": "2022-12-22T11:52:29.276048Z",
     "start_time": "2022-12-22T11:52:29.265077Z"
    }
   },
   "outputs": [],
   "source": [
    "pd.set_option('display.max_columns', 500)\n",
    "pd.set_option('max_colwidth', 800)\n"
   ]
  },
  {
   "cell_type": "markdown",
   "id": "3377b869",
   "metadata": {},
   "source": [
    "## Clean"
   ]
  },
  {
   "cell_type": "code",
   "execution_count": 939,
   "id": "2db39590",
   "metadata": {
    "ExecuteTime": {
     "end_time": "2022-12-22T11:52:29.306736Z",
     "start_time": "2022-12-22T11:52:29.278524Z"
    }
   },
   "outputs": [],
   "source": [
    "dogs_rate_clean = archive_predict_api.copy()\n"
   ]
  },
  {
   "cell_type": "markdown",
   "id": "7cb11c5e",
   "metadata": {},
   "source": [
    "### Code"
   ]
  },
  {
   "cell_type": "markdown",
   "id": "bdffe7ed",
   "metadata": {},
   "source": [
    "#### Remove original ratings without an image "
   ]
  },
  {
   "cell_type": "code",
   "execution_count": 940,
   "id": "af652a04",
   "metadata": {
    "ExecuteTime": {
     "end_time": "2022-12-22T11:52:29.386100Z",
     "start_time": "2022-12-22T11:52:29.308739Z"
    }
   },
   "outputs": [
    {
     "data": {
      "text/html": [
       "<div>\n",
       "<style scoped>\n",
       "    .dataframe tbody tr th:only-of-type {\n",
       "        vertical-align: middle;\n",
       "    }\n",
       "\n",
       "    .dataframe tbody tr th {\n",
       "        vertical-align: top;\n",
       "    }\n",
       "\n",
       "    .dataframe thead th {\n",
       "        text-align: right;\n",
       "    }\n",
       "</style>\n",
       "<table border=\"1\" class=\"dataframe\">\n",
       "  <thead>\n",
       "    <tr style=\"text-align: right;\">\n",
       "      <th></th>\n",
       "      <th>tweet_id</th>\n",
       "      <th>in_reply_to_status_id</th>\n",
       "      <th>in_reply_to_user_id</th>\n",
       "      <th>timestamp</th>\n",
       "      <th>source</th>\n",
       "      <th>text</th>\n",
       "      <th>retweeted_status_id</th>\n",
       "      <th>retweeted_status_user_id</th>\n",
       "      <th>retweeted_status_timestamp</th>\n",
       "      <th>expanded_urls</th>\n",
       "      <th>rating_numerator</th>\n",
       "      <th>rating_denominator</th>\n",
       "      <th>name</th>\n",
       "      <th>doggo</th>\n",
       "      <th>floofer</th>\n",
       "      <th>pupper</th>\n",
       "      <th>puppo</th>\n",
       "      <th>jpg_url</th>\n",
       "      <th>img_num</th>\n",
       "      <th>p1</th>\n",
       "      <th>p1_conf</th>\n",
       "      <th>p1_dog</th>\n",
       "      <th>p2</th>\n",
       "      <th>p2_conf</th>\n",
       "      <th>p2_dog</th>\n",
       "      <th>p3</th>\n",
       "      <th>p3_conf</th>\n",
       "      <th>p3_dog</th>\n",
       "      <th>id</th>\n",
       "      <th>retweet_count</th>\n",
       "      <th>favorite_count</th>\n",
       "    </tr>\n",
       "  </thead>\n",
       "  <tbody>\n",
       "    <tr>\n",
       "      <th>30</th>\n",
       "      <td>886267009285017600</td>\n",
       "      <td>8.862664e+17</td>\n",
       "      <td>2.281182e+09</td>\n",
       "      <td>2017-07-15 16:51:35 +0000</td>\n",
       "      <td>&lt;a href=\"http://twitter.com/download/iphone\" rel=\"nofollow\"&gt;Twitter for iPhone&lt;/a&gt;</td>\n",
       "      <td>@NonWhiteHat @MayhewMayhem omg hello tanner you are a scary good boy 12/10 would pet with extreme caution</td>\n",
       "      <td>NaN</td>\n",
       "      <td>NaN</td>\n",
       "      <td>NaN</td>\n",
       "      <td>NaN</td>\n",
       "      <td>12</td>\n",
       "      <td>10</td>\n",
       "      <td>None</td>\n",
       "      <td>None</td>\n",
       "      <td>None</td>\n",
       "      <td>None</td>\n",
       "      <td>None</td>\n",
       "      <td>NaN</td>\n",
       "      <td>NaN</td>\n",
       "      <td>NaN</td>\n",
       "      <td>NaN</td>\n",
       "      <td>NaN</td>\n",
       "      <td>NaN</td>\n",
       "      <td>NaN</td>\n",
       "      <td>NaN</td>\n",
       "      <td>NaN</td>\n",
       "      <td>NaN</td>\n",
       "      <td>NaN</td>\n",
       "      <td>8.862670e+17</td>\n",
       "      <td>4.0</td>\n",
       "      <td>117.0</td>\n",
       "    </tr>\n",
       "    <tr>\n",
       "      <th>32</th>\n",
       "      <td>886054160059072513</td>\n",
       "      <td>NaN</td>\n",
       "      <td>NaN</td>\n",
       "      <td>2017-07-15 02:45:48 +0000</td>\n",
       "      <td>&lt;a href=\"http://twitter.com/download/iphone\" rel=\"nofollow\"&gt;Twitter for iPhone&lt;/a&gt;</td>\n",
       "      <td>RT @Athletics: 12/10 #BATP https://t.co/WxwJmvjfxo</td>\n",
       "      <td>8.860537e+17</td>\n",
       "      <td>19607400.0</td>\n",
       "      <td>2017-07-15 02:44:07 +0000</td>\n",
       "      <td>https://twitter.com/dog_rates/status/886053434075471873,https://twitter.com/dog_rates/status/886053434075471873</td>\n",
       "      <td>12</td>\n",
       "      <td>10</td>\n",
       "      <td>None</td>\n",
       "      <td>None</td>\n",
       "      <td>None</td>\n",
       "      <td>None</td>\n",
       "      <td>None</td>\n",
       "      <td>NaN</td>\n",
       "      <td>NaN</td>\n",
       "      <td>NaN</td>\n",
       "      <td>NaN</td>\n",
       "      <td>NaN</td>\n",
       "      <td>NaN</td>\n",
       "      <td>NaN</td>\n",
       "      <td>NaN</td>\n",
       "      <td>NaN</td>\n",
       "      <td>NaN</td>\n",
       "      <td>NaN</td>\n",
       "      <td>8.860542e+17</td>\n",
       "      <td>108.0</td>\n",
       "      <td>0.0</td>\n",
       "    </tr>\n",
       "    <tr>\n",
       "      <th>35</th>\n",
       "      <td>885518971528720385</td>\n",
       "      <td>NaN</td>\n",
       "      <td>NaN</td>\n",
       "      <td>2017-07-13 15:19:09 +0000</td>\n",
       "      <td>&lt;a href=\"http://twitter.com/download/iphone\" rel=\"nofollow\"&gt;Twitter for iPhone&lt;/a&gt;</td>\n",
       "      <td>I have a new hero and his name is Howard. 14/10 https://t.co/gzLHboL7Sk</td>\n",
       "      <td>NaN</td>\n",
       "      <td>NaN</td>\n",
       "      <td>NaN</td>\n",
       "      <td>https://twitter.com/4bonds2carbon/status/885517367337512960</td>\n",
       "      <td>14</td>\n",
       "      <td>10</td>\n",
       "      <td>None</td>\n",
       "      <td>None</td>\n",
       "      <td>None</td>\n",
       "      <td>None</td>\n",
       "      <td>None</td>\n",
       "      <td>NaN</td>\n",
       "      <td>NaN</td>\n",
       "      <td>NaN</td>\n",
       "      <td>NaN</td>\n",
       "      <td>NaN</td>\n",
       "      <td>NaN</td>\n",
       "      <td>NaN</td>\n",
       "      <td>NaN</td>\n",
       "      <td>NaN</td>\n",
       "      <td>NaN</td>\n",
       "      <td>NaN</td>\n",
       "      <td>8.855190e+17</td>\n",
       "      <td>3899.0</td>\n",
       "      <td>20788.0</td>\n",
       "    </tr>\n",
       "    <tr>\n",
       "      <th>42</th>\n",
       "      <td>884247878851493888</td>\n",
       "      <td>NaN</td>\n",
       "      <td>NaN</td>\n",
       "      <td>2017-07-10 03:08:17 +0000</td>\n",
       "      <td>&lt;a href=\"http://twitter.com/download/iphone\" rel=\"nofollow\"&gt;Twitter for iPhone&lt;/a&gt;</td>\n",
       "      <td>OMG HE DIDN'T MEAN TO HE WAS JUST TRYING A LITTLE BARKOUR HE'S SUPER SORRY 13/10 WOULD FORGIVE IMMEDIATE https://t.co/uF3pQ8Wubj</td>\n",
       "      <td>NaN</td>\n",
       "      <td>NaN</td>\n",
       "      <td>NaN</td>\n",
       "      <td>https://twitter.com/kaijohnson_19/status/883965650754039809</td>\n",
       "      <td>13</td>\n",
       "      <td>10</td>\n",
       "      <td>None</td>\n",
       "      <td>None</td>\n",
       "      <td>None</td>\n",
       "      <td>None</td>\n",
       "      <td>None</td>\n",
       "      <td>NaN</td>\n",
       "      <td>NaN</td>\n",
       "      <td>NaN</td>\n",
       "      <td>NaN</td>\n",
       "      <td>NaN</td>\n",
       "      <td>NaN</td>\n",
       "      <td>NaN</td>\n",
       "      <td>NaN</td>\n",
       "      <td>NaN</td>\n",
       "      <td>NaN</td>\n",
       "      <td>NaN</td>\n",
       "      <td>8.842479e+17</td>\n",
       "      <td>21298.0</td>\n",
       "      <td>74423.0</td>\n",
       "    </tr>\n",
       "    <tr>\n",
       "      <th>55</th>\n",
       "      <td>881633300179243008</td>\n",
       "      <td>8.816070e+17</td>\n",
       "      <td>4.738443e+07</td>\n",
       "      <td>2017-07-02 21:58:53 +0000</td>\n",
       "      <td>&lt;a href=\"http://twitter.com/download/iphone\" rel=\"nofollow\"&gt;Twitter for iPhone&lt;/a&gt;</td>\n",
       "      <td>@roushfenway These are good dogs but 17/10 is an emotional impulse rating. More like 13/10s</td>\n",
       "      <td>NaN</td>\n",
       "      <td>NaN</td>\n",
       "      <td>NaN</td>\n",
       "      <td>NaN</td>\n",
       "      <td>17</td>\n",
       "      <td>10</td>\n",
       "      <td>None</td>\n",
       "      <td>None</td>\n",
       "      <td>None</td>\n",
       "      <td>None</td>\n",
       "      <td>None</td>\n",
       "      <td>NaN</td>\n",
       "      <td>NaN</td>\n",
       "      <td>NaN</td>\n",
       "      <td>NaN</td>\n",
       "      <td>NaN</td>\n",
       "      <td>NaN</td>\n",
       "      <td>NaN</td>\n",
       "      <td>NaN</td>\n",
       "      <td>NaN</td>\n",
       "      <td>NaN</td>\n",
       "      <td>NaN</td>\n",
       "      <td>8.816333e+17</td>\n",
       "      <td>7.0</td>\n",
       "      <td>129.0</td>\n",
       "    </tr>\n",
       "    <tr>\n",
       "      <th>...</th>\n",
       "      <td>...</td>\n",
       "      <td>...</td>\n",
       "      <td>...</td>\n",
       "      <td>...</td>\n",
       "      <td>...</td>\n",
       "      <td>...</td>\n",
       "      <td>...</td>\n",
       "      <td>...</td>\n",
       "      <td>...</td>\n",
       "      <td>...</td>\n",
       "      <td>...</td>\n",
       "      <td>...</td>\n",
       "      <td>...</td>\n",
       "      <td>...</td>\n",
       "      <td>...</td>\n",
       "      <td>...</td>\n",
       "      <td>...</td>\n",
       "      <td>...</td>\n",
       "      <td>...</td>\n",
       "      <td>...</td>\n",
       "      <td>...</td>\n",
       "      <td>...</td>\n",
       "      <td>...</td>\n",
       "      <td>...</td>\n",
       "      <td>...</td>\n",
       "      <td>...</td>\n",
       "      <td>...</td>\n",
       "      <td>...</td>\n",
       "      <td>...</td>\n",
       "      <td>...</td>\n",
       "      <td>...</td>\n",
       "    </tr>\n",
       "    <tr>\n",
       "      <th>2038</th>\n",
       "      <td>671550332464455680</td>\n",
       "      <td>6.715449e+17</td>\n",
       "      <td>4.196984e+09</td>\n",
       "      <td>2015-12-01 04:44:10 +0000</td>\n",
       "      <td>&lt;a href=\"http://twitter.com/download/iphone\" rel=\"nofollow\"&gt;Twitter for iPhone&lt;/a&gt;</td>\n",
       "      <td>After 22 minutes of careful deliberation this dog is being demoted to a 1/10. The longer you look at him the more terrifying he becomes</td>\n",
       "      <td>NaN</td>\n",
       "      <td>NaN</td>\n",
       "      <td>NaN</td>\n",
       "      <td>NaN</td>\n",
       "      <td>1</td>\n",
       "      <td>10</td>\n",
       "      <td>None</td>\n",
       "      <td>None</td>\n",
       "      <td>None</td>\n",
       "      <td>None</td>\n",
       "      <td>None</td>\n",
       "      <td>NaN</td>\n",
       "      <td>NaN</td>\n",
       "      <td>NaN</td>\n",
       "      <td>NaN</td>\n",
       "      <td>NaN</td>\n",
       "      <td>NaN</td>\n",
       "      <td>NaN</td>\n",
       "      <td>NaN</td>\n",
       "      <td>NaN</td>\n",
       "      <td>NaN</td>\n",
       "      <td>NaN</td>\n",
       "      <td>6.715503e+17</td>\n",
       "      <td>229.0</td>\n",
       "      <td>967.0</td>\n",
       "    </tr>\n",
       "    <tr>\n",
       "      <th>2149</th>\n",
       "      <td>669684865554620416</td>\n",
       "      <td>6.693544e+17</td>\n",
       "      <td>4.196984e+09</td>\n",
       "      <td>2015-11-26 01:11:28 +0000</td>\n",
       "      <td>&lt;a href=\"http://twitter.com/download/iphone\" rel=\"nofollow\"&gt;Twitter for iPhone&lt;/a&gt;</td>\n",
       "      <td>After countless hours of research and hundreds of formula alterations we have concluded that Dug should be bumped to an 11/10</td>\n",
       "      <td>NaN</td>\n",
       "      <td>NaN</td>\n",
       "      <td>NaN</td>\n",
       "      <td>NaN</td>\n",
       "      <td>11</td>\n",
       "      <td>10</td>\n",
       "      <td>None</td>\n",
       "      <td>None</td>\n",
       "      <td>None</td>\n",
       "      <td>None</td>\n",
       "      <td>None</td>\n",
       "      <td>NaN</td>\n",
       "      <td>NaN</td>\n",
       "      <td>NaN</td>\n",
       "      <td>NaN</td>\n",
       "      <td>NaN</td>\n",
       "      <td>NaN</td>\n",
       "      <td>NaN</td>\n",
       "      <td>NaN</td>\n",
       "      <td>NaN</td>\n",
       "      <td>NaN</td>\n",
       "      <td>NaN</td>\n",
       "      <td>6.696849e+17</td>\n",
       "      <td>99.0</td>\n",
       "      <td>551.0</td>\n",
       "    </tr>\n",
       "    <tr>\n",
       "      <th>2189</th>\n",
       "      <td>668967877119254528</td>\n",
       "      <td>6.689207e+17</td>\n",
       "      <td>2.143566e+07</td>\n",
       "      <td>2015-11-24 01:42:25 +0000</td>\n",
       "      <td>&lt;a href=\"http://twitter.com/download/iphone\" rel=\"nofollow\"&gt;Twitter for iPhone&lt;/a&gt;</td>\n",
       "      <td>12/10 good shit Bubka\\n@wane15</td>\n",
       "      <td>NaN</td>\n",
       "      <td>NaN</td>\n",
       "      <td>NaN</td>\n",
       "      <td>NaN</td>\n",
       "      <td>12</td>\n",
       "      <td>10</td>\n",
       "      <td>None</td>\n",
       "      <td>None</td>\n",
       "      <td>None</td>\n",
       "      <td>None</td>\n",
       "      <td>None</td>\n",
       "      <td>NaN</td>\n",
       "      <td>NaN</td>\n",
       "      <td>NaN</td>\n",
       "      <td>NaN</td>\n",
       "      <td>NaN</td>\n",
       "      <td>NaN</td>\n",
       "      <td>NaN</td>\n",
       "      <td>NaN</td>\n",
       "      <td>NaN</td>\n",
       "      <td>NaN</td>\n",
       "      <td>NaN</td>\n",
       "      <td>6.689679e+17</td>\n",
       "      <td>25.0</td>\n",
       "      <td>161.0</td>\n",
       "    </tr>\n",
       "    <tr>\n",
       "      <th>2212</th>\n",
       "      <td>668587383441514497</td>\n",
       "      <td>NaN</td>\n",
       "      <td>NaN</td>\n",
       "      <td>2015-11-23 00:30:28 +0000</td>\n",
       "      <td>&lt;a href=\"http://vine.co\" rel=\"nofollow\"&gt;Vine - Make a Scene&lt;/a&gt;</td>\n",
       "      <td>Never forget this vine. You will not stop watching for at least 15 minutes. This is the second coveted.. 13/10 https://t.co/roqIxCvEB3</td>\n",
       "      <td>NaN</td>\n",
       "      <td>NaN</td>\n",
       "      <td>NaN</td>\n",
       "      <td>https://vine.co/v/ea0OwvPTx9l</td>\n",
       "      <td>13</td>\n",
       "      <td>10</td>\n",
       "      <td>the</td>\n",
       "      <td>None</td>\n",
       "      <td>None</td>\n",
       "      <td>None</td>\n",
       "      <td>None</td>\n",
       "      <td>NaN</td>\n",
       "      <td>NaN</td>\n",
       "      <td>NaN</td>\n",
       "      <td>NaN</td>\n",
       "      <td>NaN</td>\n",
       "      <td>NaN</td>\n",
       "      <td>NaN</td>\n",
       "      <td>NaN</td>\n",
       "      <td>NaN</td>\n",
       "      <td>NaN</td>\n",
       "      <td>NaN</td>\n",
       "      <td>6.685874e+17</td>\n",
       "      <td>1174.0</td>\n",
       "      <td>1760.0</td>\n",
       "    </tr>\n",
       "    <tr>\n",
       "      <th>2298</th>\n",
       "      <td>667070482143944705</td>\n",
       "      <td>6.670655e+17</td>\n",
       "      <td>4.196984e+09</td>\n",
       "      <td>2015-11-18 20:02:51 +0000</td>\n",
       "      <td>&lt;a href=\"http://twitter.com/download/iphone\" rel=\"nofollow\"&gt;Twitter for iPhone&lt;/a&gt;</td>\n",
       "      <td>After much debate this dog is being upgraded to 10/10. I repeat 10/10</td>\n",
       "      <td>NaN</td>\n",
       "      <td>NaN</td>\n",
       "      <td>NaN</td>\n",
       "      <td>NaN</td>\n",
       "      <td>10</td>\n",
       "      <td>10</td>\n",
       "      <td>None</td>\n",
       "      <td>None</td>\n",
       "      <td>None</td>\n",
       "      <td>None</td>\n",
       "      <td>None</td>\n",
       "      <td>NaN</td>\n",
       "      <td>NaN</td>\n",
       "      <td>NaN</td>\n",
       "      <td>NaN</td>\n",
       "      <td>NaN</td>\n",
       "      <td>NaN</td>\n",
       "      <td>NaN</td>\n",
       "      <td>NaN</td>\n",
       "      <td>NaN</td>\n",
       "      <td>NaN</td>\n",
       "      <td>NaN</td>\n",
       "      <td>6.670705e+17</td>\n",
       "      <td>14.0</td>\n",
       "      <td>88.0</td>\n",
       "    </tr>\n",
       "  </tbody>\n",
       "</table>\n",
       "<p>281 rows × 31 columns</p>\n",
       "</div>"
      ],
      "text/plain": [
       "                tweet_id  in_reply_to_status_id  in_reply_to_user_id  \\\n",
       "30    886267009285017600           8.862664e+17         2.281182e+09   \n",
       "32    886054160059072513                    NaN                  NaN   \n",
       "35    885518971528720385                    NaN                  NaN   \n",
       "42    884247878851493888                    NaN                  NaN   \n",
       "55    881633300179243008           8.816070e+17         4.738443e+07   \n",
       "...                  ...                    ...                  ...   \n",
       "2038  671550332464455680           6.715449e+17         4.196984e+09   \n",
       "2149  669684865554620416           6.693544e+17         4.196984e+09   \n",
       "2189  668967877119254528           6.689207e+17         2.143566e+07   \n",
       "2212  668587383441514497                    NaN                  NaN   \n",
       "2298  667070482143944705           6.670655e+17         4.196984e+09   \n",
       "\n",
       "                      timestamp  \\\n",
       "30    2017-07-15 16:51:35 +0000   \n",
       "32    2017-07-15 02:45:48 +0000   \n",
       "35    2017-07-13 15:19:09 +0000   \n",
       "42    2017-07-10 03:08:17 +0000   \n",
       "55    2017-07-02 21:58:53 +0000   \n",
       "...                         ...   \n",
       "2038  2015-12-01 04:44:10 +0000   \n",
       "2149  2015-11-26 01:11:28 +0000   \n",
       "2189  2015-11-24 01:42:25 +0000   \n",
       "2212  2015-11-23 00:30:28 +0000   \n",
       "2298  2015-11-18 20:02:51 +0000   \n",
       "\n",
       "                                                                                  source  \\\n",
       "30    <a href=\"http://twitter.com/download/iphone\" rel=\"nofollow\">Twitter for iPhone</a>   \n",
       "32    <a href=\"http://twitter.com/download/iphone\" rel=\"nofollow\">Twitter for iPhone</a>   \n",
       "35    <a href=\"http://twitter.com/download/iphone\" rel=\"nofollow\">Twitter for iPhone</a>   \n",
       "42    <a href=\"http://twitter.com/download/iphone\" rel=\"nofollow\">Twitter for iPhone</a>   \n",
       "55    <a href=\"http://twitter.com/download/iphone\" rel=\"nofollow\">Twitter for iPhone</a>   \n",
       "...                                                                                  ...   \n",
       "2038  <a href=\"http://twitter.com/download/iphone\" rel=\"nofollow\">Twitter for iPhone</a>   \n",
       "2149  <a href=\"http://twitter.com/download/iphone\" rel=\"nofollow\">Twitter for iPhone</a>   \n",
       "2189  <a href=\"http://twitter.com/download/iphone\" rel=\"nofollow\">Twitter for iPhone</a>   \n",
       "2212                     <a href=\"http://vine.co\" rel=\"nofollow\">Vine - Make a Scene</a>   \n",
       "2298  <a href=\"http://twitter.com/download/iphone\" rel=\"nofollow\">Twitter for iPhone</a>   \n",
       "\n",
       "                                                                                                                                         text  \\\n",
       "30                                  @NonWhiteHat @MayhewMayhem omg hello tanner you are a scary good boy 12/10 would pet with extreme caution   \n",
       "32                                                                                         RT @Athletics: 12/10 #BATP https://t.co/WxwJmvjfxo   \n",
       "35                                                                    I have a new hero and his name is Howard. 14/10 https://t.co/gzLHboL7Sk   \n",
       "42           OMG HE DIDN'T MEAN TO HE WAS JUST TRYING A LITTLE BARKOUR HE'S SUPER SORRY 13/10 WOULD FORGIVE IMMEDIATE https://t.co/uF3pQ8Wubj   \n",
       "55                                                @roushfenway These are good dogs but 17/10 is an emotional impulse rating. More like 13/10s   \n",
       "...                                                                                                                                       ...   \n",
       "2038  After 22 minutes of careful deliberation this dog is being demoted to a 1/10. The longer you look at him the more terrifying he becomes   \n",
       "2149            After countless hours of research and hundreds of formula alterations we have concluded that Dug should be bumped to an 11/10   \n",
       "2189                                                                                                           12/10 good shit Bubka\\n@wane15   \n",
       "2212   Never forget this vine. You will not stop watching for at least 15 minutes. This is the second coveted.. 13/10 https://t.co/roqIxCvEB3   \n",
       "2298                                                                    After much debate this dog is being upgraded to 10/10. I repeat 10/10   \n",
       "\n",
       "      retweeted_status_id  retweeted_status_user_id  \\\n",
       "30                    NaN                       NaN   \n",
       "32           8.860537e+17                19607400.0   \n",
       "35                    NaN                       NaN   \n",
       "42                    NaN                       NaN   \n",
       "55                    NaN                       NaN   \n",
       "...                   ...                       ...   \n",
       "2038                  NaN                       NaN   \n",
       "2149                  NaN                       NaN   \n",
       "2189                  NaN                       NaN   \n",
       "2212                  NaN                       NaN   \n",
       "2298                  NaN                       NaN   \n",
       "\n",
       "     retweeted_status_timestamp  \\\n",
       "30                          NaN   \n",
       "32    2017-07-15 02:44:07 +0000   \n",
       "35                          NaN   \n",
       "42                          NaN   \n",
       "55                          NaN   \n",
       "...                         ...   \n",
       "2038                        NaN   \n",
       "2149                        NaN   \n",
       "2189                        NaN   \n",
       "2212                        NaN   \n",
       "2298                        NaN   \n",
       "\n",
       "                                                                                                        expanded_urls  \\\n",
       "30                                                                                                                NaN   \n",
       "32    https://twitter.com/dog_rates/status/886053434075471873,https://twitter.com/dog_rates/status/886053434075471873   \n",
       "35                                                        https://twitter.com/4bonds2carbon/status/885517367337512960   \n",
       "42                                                        https://twitter.com/kaijohnson_19/status/883965650754039809   \n",
       "55                                                                                                                NaN   \n",
       "...                                                                                                               ...   \n",
       "2038                                                                                                              NaN   \n",
       "2149                                                                                                              NaN   \n",
       "2189                                                                                                              NaN   \n",
       "2212                                                                                    https://vine.co/v/ea0OwvPTx9l   \n",
       "2298                                                                                                              NaN   \n",
       "\n",
       "      rating_numerator  rating_denominator  name doggo floofer pupper puppo  \\\n",
       "30                  12                  10  None  None    None   None  None   \n",
       "32                  12                  10  None  None    None   None  None   \n",
       "35                  14                  10  None  None    None   None  None   \n",
       "42                  13                  10  None  None    None   None  None   \n",
       "55                  17                  10  None  None    None   None  None   \n",
       "...                ...                 ...   ...   ...     ...    ...   ...   \n",
       "2038                 1                  10  None  None    None   None  None   \n",
       "2149                11                  10  None  None    None   None  None   \n",
       "2189                12                  10  None  None    None   None  None   \n",
       "2212                13                  10   the  None    None   None  None   \n",
       "2298                10                  10  None  None    None   None  None   \n",
       "\n",
       "     jpg_url  img_num   p1  p1_conf p1_dog   p2  p2_conf p2_dog   p3  p3_conf  \\\n",
       "30       NaN      NaN  NaN      NaN    NaN  NaN      NaN    NaN  NaN      NaN   \n",
       "32       NaN      NaN  NaN      NaN    NaN  NaN      NaN    NaN  NaN      NaN   \n",
       "35       NaN      NaN  NaN      NaN    NaN  NaN      NaN    NaN  NaN      NaN   \n",
       "42       NaN      NaN  NaN      NaN    NaN  NaN      NaN    NaN  NaN      NaN   \n",
       "55       NaN      NaN  NaN      NaN    NaN  NaN      NaN    NaN  NaN      NaN   \n",
       "...      ...      ...  ...      ...    ...  ...      ...    ...  ...      ...   \n",
       "2038     NaN      NaN  NaN      NaN    NaN  NaN      NaN    NaN  NaN      NaN   \n",
       "2149     NaN      NaN  NaN      NaN    NaN  NaN      NaN    NaN  NaN      NaN   \n",
       "2189     NaN      NaN  NaN      NaN    NaN  NaN      NaN    NaN  NaN      NaN   \n",
       "2212     NaN      NaN  NaN      NaN    NaN  NaN      NaN    NaN  NaN      NaN   \n",
       "2298     NaN      NaN  NaN      NaN    NaN  NaN      NaN    NaN  NaN      NaN   \n",
       "\n",
       "     p3_dog            id  retweet_count  favorite_count  \n",
       "30      NaN  8.862670e+17            4.0           117.0  \n",
       "32      NaN  8.860542e+17          108.0             0.0  \n",
       "35      NaN  8.855190e+17         3899.0         20788.0  \n",
       "42      NaN  8.842479e+17        21298.0         74423.0  \n",
       "55      NaN  8.816333e+17            7.0           129.0  \n",
       "...     ...           ...            ...             ...  \n",
       "2038    NaN  6.715503e+17          229.0           967.0  \n",
       "2149    NaN  6.696849e+17           99.0           551.0  \n",
       "2189    NaN  6.689679e+17           25.0           161.0  \n",
       "2212    NaN  6.685874e+17         1174.0          1760.0  \n",
       "2298    NaN  6.670705e+17           14.0            88.0  \n",
       "\n",
       "[281 rows x 31 columns]"
      ]
     },
     "execution_count": 940,
     "metadata": {},
     "output_type": "execute_result"
    }
   ],
   "source": [
    "dogs_rate_clean[dogs_rate_clean.jpg_url.isnull()]"
   ]
  },
  {
   "cell_type": "markdown",
   "id": "0df83ac5",
   "metadata": {
    "ExecuteTime": {
     "end_time": "2022-12-21T14:35:12.273726Z",
     "start_time": "2022-12-21T14:35:12.256509Z"
    }
   },
   "source": [
    "#### Test"
   ]
  },
  {
   "cell_type": "code",
   "execution_count": 941,
   "id": "e10002aa",
   "metadata": {
    "ExecuteTime": {
     "end_time": "2022-12-22T11:52:29.417986Z",
     "start_time": "2022-12-22T11:52:29.389063Z"
    }
   },
   "outputs": [
    {
     "data": {
      "text/plain": [
       "0"
      ]
     },
     "execution_count": 941,
     "metadata": {},
     "output_type": "execute_result"
    }
   ],
   "source": [
    "dogs_rate_clean = dogs_rate_clean.dropna(subset=['jpg_url'])\n",
    "dogs_rate_clean.jpg_url.isnull().sum()"
   ]
  },
  {
   "cell_type": "markdown",
   "id": "bac2ee9d",
   "metadata": {},
   "source": [
    "#### Remove '+0000' from 'timestamp' column and change data type"
   ]
  },
  {
   "cell_type": "code",
   "execution_count": 942,
   "id": "74329d08",
   "metadata": {
    "ExecuteTime": {
     "end_time": "2022-12-22T11:52:29.447903Z",
     "start_time": "2022-12-22T11:52:29.420975Z"
    },
    "scrolled": true
   },
   "outputs": [],
   "source": [
    "dogs_rate_clean['timestamp'] = dogs_rate_clean['timestamp'].str[:-5] \n"
   ]
  },
  {
   "cell_type": "code",
   "execution_count": 943,
   "id": "9a085081",
   "metadata": {
    "ExecuteTime": {
     "end_time": "2022-12-22T11:52:29.478821Z",
     "start_time": "2022-12-22T11:52:29.459872Z"
    },
    "scrolled": true
   },
   "outputs": [],
   "source": [
    "dogs_rate_clean['timestamp'] = pd.to_datetime(dogs_rate_clean['timestamp'])"
   ]
  },
  {
   "cell_type": "markdown",
   "id": "f2b85cfe",
   "metadata": {},
   "source": [
    "#### Test"
   ]
  },
  {
   "cell_type": "code",
   "execution_count": 944,
   "id": "e6142375",
   "metadata": {
    "ExecuteTime": {
     "end_time": "2022-12-22T11:52:29.509738Z",
     "start_time": "2022-12-22T11:52:29.484804Z"
    }
   },
   "outputs": [
    {
     "data": {
      "text/plain": [
       "0      2017-08-01 16:23:56\n",
       "1      2017-08-01 00:17:27\n",
       "2      2017-07-31 00:18:03\n",
       "3      2017-07-30 15:58:51\n",
       "4      2017-07-29 16:00:24\n",
       "               ...        \n",
       "2351   2015-11-16 00:24:50\n",
       "2352   2015-11-16 00:04:52\n",
       "2353   2015-11-15 23:21:54\n",
       "2354   2015-11-15 23:05:30\n",
       "2355   2015-11-15 22:32:08\n",
       "Name: timestamp, Length: 2075, dtype: datetime64[ns]"
      ]
     },
     "execution_count": 944,
     "metadata": {},
     "output_type": "execute_result"
    }
   ],
   "source": [
    "dogs_rate_clean['timestamp']"
   ]
  },
  {
   "cell_type": "markdown",
   "id": "ca72a76e",
   "metadata": {},
   "source": [
    "#### Remove nulls and change data type from float to int in columns: img_num, retweet_count, favorite_count"
   ]
  },
  {
   "cell_type": "code",
   "execution_count": 945,
   "id": "f2491ca6",
   "metadata": {
    "ExecuteTime": {
     "end_time": "2022-12-22T11:52:29.524698Z",
     "start_time": "2022-12-22T11:52:29.511734Z"
    }
   },
   "outputs": [
    {
     "data": {
      "text/plain": [
       "2"
      ]
     },
     "execution_count": 945,
     "metadata": {},
     "output_type": "execute_result"
    }
   ],
   "source": [
    "dogs_rate_clean.favorite_count.isnull().sum()"
   ]
  },
  {
   "cell_type": "code",
   "execution_count": 946,
   "id": "689ad466",
   "metadata": {
    "ExecuteTime": {
     "end_time": "2022-12-22T11:52:29.554617Z",
     "start_time": "2022-12-22T11:52:29.528688Z"
    }
   },
   "outputs": [
    {
     "data": {
      "text/plain": [
       "0"
      ]
     },
     "execution_count": 946,
     "metadata": {},
     "output_type": "execute_result"
    }
   ],
   "source": [
    "dogs_rate_clean.img_num.isnull().sum()"
   ]
  },
  {
   "cell_type": "code",
   "execution_count": 947,
   "id": "558398ed",
   "metadata": {
    "ExecuteTime": {
     "end_time": "2022-12-22T11:52:29.585535Z",
     "start_time": "2022-12-22T11:52:29.558608Z"
    }
   },
   "outputs": [
    {
     "data": {
      "text/plain": [
       "2"
      ]
     },
     "execution_count": 947,
     "metadata": {},
     "output_type": "execute_result"
    }
   ],
   "source": [
    "dogs_rate_clean.retweet_count.isnull().sum()"
   ]
  },
  {
   "cell_type": "code",
   "execution_count": 948,
   "id": "f69836fa",
   "metadata": {
    "ExecuteTime": {
     "end_time": "2022-12-22T11:52:29.631413Z",
     "start_time": "2022-12-22T11:52:29.591521Z"
    },
    "scrolled": false
   },
   "outputs": [],
   "source": [
    "dogs_rate_clean = dogs_rate_clean.dropna(subset=['retweet_count','favorite_count'])\n",
    "dogs_rate_clean[['img_num','retweet_count','favorite_count']] = dogs_rate_clean[['img_num','retweet_count','favorite_count']].astype(float).astype('int64')\n"
   ]
  },
  {
   "cell_type": "markdown",
   "id": "ec3d1f96",
   "metadata": {},
   "source": [
    "#### Test"
   ]
  },
  {
   "cell_type": "code",
   "execution_count": 949,
   "id": "fdb8e64c",
   "metadata": {
    "ExecuteTime": {
     "end_time": "2022-12-22T11:52:29.661334Z",
     "start_time": "2022-12-22T11:52:29.637397Z"
    }
   },
   "outputs": [
    {
     "data": {
      "text/plain": [
       "0"
      ]
     },
     "execution_count": 949,
     "metadata": {},
     "output_type": "execute_result"
    }
   ],
   "source": [
    "dogs_rate_clean.retweet_count.isnull().sum()\n"
   ]
  },
  {
   "cell_type": "code",
   "execution_count": 950,
   "id": "64ed509f",
   "metadata": {
    "ExecuteTime": {
     "end_time": "2022-12-22T11:52:29.680282Z",
     "start_time": "2022-12-22T11:52:29.664324Z"
    }
   },
   "outputs": [
    {
     "data": {
      "text/plain": [
       "0"
      ]
     },
     "execution_count": 950,
     "metadata": {},
     "output_type": "execute_result"
    }
   ],
   "source": [
    "dogs_rate_clean.favorite_count.isnull().sum()"
   ]
  },
  {
   "cell_type": "code",
   "execution_count": 951,
   "id": "44a4227d",
   "metadata": {
    "ExecuteTime": {
     "end_time": "2022-12-22T11:52:29.770115Z",
     "start_time": "2022-12-22T11:52:29.688266Z"
    }
   },
   "outputs": [
    {
     "name": "stdout",
     "output_type": "stream",
     "text": [
      "<class 'pandas.core.frame.DataFrame'>\n",
      "Int64Index: 2073 entries, 0 to 2355\n",
      "Data columns (total 31 columns):\n",
      " #   Column                      Non-Null Count  Dtype         \n",
      "---  ------                      --------------  -----         \n",
      " 0   tweet_id                    2073 non-null   int64         \n",
      " 1   in_reply_to_status_id       23 non-null     float64       \n",
      " 2   in_reply_to_user_id         23 non-null     float64       \n",
      " 3   timestamp                   2073 non-null   datetime64[ns]\n",
      " 4   source                      2073 non-null   object        \n",
      " 5   text                        2073 non-null   object        \n",
      " 6   retweeted_status_id         79 non-null     float64       \n",
      " 7   retweeted_status_user_id    79 non-null     float64       \n",
      " 8   retweeted_status_timestamp  79 non-null     object        \n",
      " 9   expanded_urls               2073 non-null   object        \n",
      " 10  rating_numerator            2073 non-null   int64         \n",
      " 11  rating_denominator          2073 non-null   int64         \n",
      " 12  name                        2073 non-null   object        \n",
      " 13  doggo                       2073 non-null   object        \n",
      " 14  floofer                     2073 non-null   object        \n",
      " 15  pupper                      2073 non-null   object        \n",
      " 16  puppo                       2073 non-null   object        \n",
      " 17  jpg_url                     2073 non-null   object        \n",
      " 18  img_num                     2073 non-null   int64         \n",
      " 19  p1                          2073 non-null   object        \n",
      " 20  p1_conf                     2073 non-null   float64       \n",
      " 21  p1_dog                      2073 non-null   object        \n",
      " 22  p2                          2073 non-null   object        \n",
      " 23  p2_conf                     2073 non-null   float64       \n",
      " 24  p2_dog                      2073 non-null   object        \n",
      " 25  p3                          2073 non-null   object        \n",
      " 26  p3_conf                     2073 non-null   float64       \n",
      " 27  p3_dog                      2073 non-null   object        \n",
      " 28  id                          2073 non-null   float64       \n",
      " 29  retweet_count               2073 non-null   int64         \n",
      " 30  favorite_count              2073 non-null   int64         \n",
      "dtypes: datetime64[ns](1), float64(8), int64(6), object(16)\n",
      "memory usage: 518.2+ KB\n"
     ]
    }
   ],
   "source": [
    "dogs_rate_clean.info()"
   ]
  },
  {
   "cell_type": "markdown",
   "id": "cfc68cdb",
   "metadata": {},
   "source": [
    "#### Change all breed names to Lowercase + replace under scores with space"
   ]
  },
  {
   "cell_type": "code",
   "execution_count": 952,
   "id": "d1ce7ac3",
   "metadata": {
    "ExecuteTime": {
     "end_time": "2022-12-22T11:52:29.817936Z",
     "start_time": "2022-12-22T11:52:29.774108Z"
    }
   },
   "outputs": [],
   "source": [
    "def clean_breed(x):\n",
    "    return x.str.replace(\"_\",\" \").str.lower()\n",
    "\n",
    "dogs_rate_clean[[\"p1\", \"p2\", \"p3\"]] = dogs_rate_clean[[\"p1\", \"p2\", \"p3\"]].apply(clean_breed)"
   ]
  },
  {
   "cell_type": "markdown",
   "id": "c0bd258c",
   "metadata": {},
   "source": [
    "#### Test"
   ]
  },
  {
   "cell_type": "code",
   "execution_count": 953,
   "id": "ef275c4f",
   "metadata": {
    "ExecuteTime": {
     "end_time": "2022-12-22T11:52:29.849496Z",
     "start_time": "2022-12-22T11:52:29.820929Z"
    }
   },
   "outputs": [
    {
     "data": {
      "text/html": [
       "<div>\n",
       "<style scoped>\n",
       "    .dataframe tbody tr th:only-of-type {\n",
       "        vertical-align: middle;\n",
       "    }\n",
       "\n",
       "    .dataframe tbody tr th {\n",
       "        vertical-align: top;\n",
       "    }\n",
       "\n",
       "    .dataframe thead th {\n",
       "        text-align: right;\n",
       "    }\n",
       "</style>\n",
       "<table border=\"1\" class=\"dataframe\">\n",
       "  <thead>\n",
       "    <tr style=\"text-align: right;\">\n",
       "      <th></th>\n",
       "      <th>p1</th>\n",
       "      <th>p2</th>\n",
       "      <th>p3</th>\n",
       "    </tr>\n",
       "  </thead>\n",
       "  <tbody>\n",
       "    <tr>\n",
       "      <th>1438</th>\n",
       "      <td>chihuahua</td>\n",
       "      <td>pembroke</td>\n",
       "      <td>basenji</td>\n",
       "    </tr>\n",
       "    <tr>\n",
       "      <th>359</th>\n",
       "      <td>golden retriever</td>\n",
       "      <td>labrador retriever</td>\n",
       "      <td>tennis ball</td>\n",
       "    </tr>\n",
       "    <tr>\n",
       "      <th>1952</th>\n",
       "      <td>samoyed</td>\n",
       "      <td>arctic fox</td>\n",
       "      <td>chow</td>\n",
       "    </tr>\n",
       "    <tr>\n",
       "      <th>1977</th>\n",
       "      <td>lakeland terrier</td>\n",
       "      <td>west highland white terrier</td>\n",
       "      <td>wire-haired fox terrier</td>\n",
       "    </tr>\n",
       "    <tr>\n",
       "      <th>1871</th>\n",
       "      <td>golden retriever</td>\n",
       "      <td>labrador retriever</td>\n",
       "      <td>flat-coated retriever</td>\n",
       "    </tr>\n",
       "  </tbody>\n",
       "</table>\n",
       "</div>"
      ],
      "text/plain": [
       "                    p1                           p2                       p3\n",
       "1438         chihuahua                     pembroke                  basenji\n",
       "359   golden retriever           labrador retriever              tennis ball\n",
       "1952           samoyed                   arctic fox                     chow\n",
       "1977  lakeland terrier  west highland white terrier  wire-haired fox terrier\n",
       "1871  golden retriever           labrador retriever    flat-coated retriever"
      ]
     },
     "execution_count": 953,
     "metadata": {},
     "output_type": "execute_result"
    }
   ],
   "source": [
    "dogs_rate_clean[[\"p1\", \"p2\", \"p3\"]].sample(5)"
   ]
  },
  {
   "cell_type": "markdown",
   "id": "648e4d40",
   "metadata": {},
   "source": [
    "#### 'name' column: set 'None' to null, format to title(), set 'A' to null"
   ]
  },
  {
   "cell_type": "code",
   "execution_count": 954,
   "id": "b97c4833",
   "metadata": {
    "ExecuteTime": {
     "end_time": "2022-12-22T11:52:29.865452Z",
     "start_time": "2022-12-22T11:52:29.852487Z"
    },
    "scrolled": false
   },
   "outputs": [],
   "source": [
    "def clean_name(x):\n",
    "    return x.replace(\"None\",np.nan).str.title()\n",
    "\n",
    "dogs_rate_clean[['name']] = dogs_rate_clean[['name']].apply(clean_name)"
   ]
  },
  {
   "cell_type": "code",
   "execution_count": 955,
   "id": "b301137f",
   "metadata": {
    "ExecuteTime": {
     "end_time": "2022-12-22T11:52:29.896370Z",
     "start_time": "2022-12-22T11:52:29.868447Z"
    },
    "scrolled": true
   },
   "outputs": [],
   "source": [
    "def fix_name(x):\n",
    "    return x.replace(\"A\",np.nan)\n",
    "\n",
    "dogs_rate_clean[['name']] = dogs_rate_clean[['name']].apply(fix_name)"
   ]
  },
  {
   "cell_type": "markdown",
   "id": "e3f5a2db",
   "metadata": {},
   "source": [
    "#### Test"
   ]
  },
  {
   "cell_type": "code",
   "execution_count": 956,
   "id": "76ab8c12",
   "metadata": {
    "ExecuteTime": {
     "end_time": "2022-12-22T11:52:29.927315Z",
     "start_time": "2022-12-22T11:52:29.898364Z"
    }
   },
   "outputs": [
    {
     "data": {
      "text/plain": [
       "Charlie       11\n",
       "Oliver        10\n",
       "Cooper        10\n",
       "Lucy          10\n",
       "Penny         10\n",
       "              ..\n",
       "Emma           1\n",
       "Spencer        1\n",
       "Lilli          1\n",
       "Boston         1\n",
       "Christoper     1\n",
       "Name: name, Length: 934, dtype: int64"
      ]
     },
     "execution_count": 956,
     "metadata": {},
     "output_type": "execute_result"
    }
   ],
   "source": [
    "dogs_rate_clean['name'].value_counts()"
   ]
  },
  {
   "cell_type": "markdown",
   "id": "465cb54b",
   "metadata": {
    "ExecuteTime": {
     "end_time": "2022-12-20T13:10:03.782969Z",
     "start_time": "2022-12-20T13:10:03.759678Z"
    }
   },
   "source": [
    "#### doggo,floofer,pupper,puppo columns: change 'None' to Blank"
   ]
  },
  {
   "cell_type": "code",
   "execution_count": 957,
   "id": "ae73ba16",
   "metadata": {
    "ExecuteTime": {
     "end_time": "2022-12-22T11:52:29.958243Z",
     "start_time": "2022-12-22T11:52:29.929318Z"
    },
    "scrolled": true
   },
   "outputs": [],
   "source": [
    "def clean_breed(x):\n",
    "    return x.replace(\"None\",\"\")\n",
    "\n",
    "dogs_rate_clean[['doggo','floofer','pupper','puppo']] = dogs_rate_clean[['doggo','floofer','pupper','puppo']].apply(clean_breed)"
   ]
  },
  {
   "cell_type": "markdown",
   "id": "1d7e6e21",
   "metadata": {},
   "source": [
    "#### Test"
   ]
  },
  {
   "cell_type": "code",
   "execution_count": 958,
   "id": "e440772e",
   "metadata": {
    "ExecuteTime": {
     "end_time": "2022-12-22T11:52:29.974198Z",
     "start_time": "2022-12-22T11:52:29.960233Z"
    },
    "scrolled": true
   },
   "outputs": [
    {
     "data": {
      "text/plain": [
       "           2065\n",
       "floofer       8\n",
       "Name: floofer, dtype: int64"
      ]
     },
     "execution_count": 958,
     "metadata": {},
     "output_type": "execute_result"
    }
   ],
   "source": [
    "dogs_rate_clean.floofer.value_counts()"
   ]
  },
  {
   "cell_type": "code",
   "execution_count": 959,
   "id": "1d225b5d",
   "metadata": {
    "ExecuteTime": {
     "end_time": "2022-12-22T11:52:30.005114Z",
     "start_time": "2022-12-22T11:52:29.978187Z"
    },
    "scrolled": true
   },
   "outputs": [
    {
     "data": {
      "text/plain": [
       "         1993\n",
       "doggo      80\n",
       "Name: doggo, dtype: int64"
      ]
     },
     "execution_count": 959,
     "metadata": {},
     "output_type": "execute_result"
    }
   ],
   "source": [
    "dogs_rate_clean.doggo.value_counts()"
   ]
  },
  {
   "cell_type": "code",
   "execution_count": 960,
   "id": "864a57fb",
   "metadata": {
    "ExecuteTime": {
     "end_time": "2022-12-22T11:52:30.036033Z",
     "start_time": "2022-12-22T11:52:30.008106Z"
    },
    "scrolled": true
   },
   "outputs": [
    {
     "data": {
      "text/plain": [
       "          1852\n",
       "pupper     221\n",
       "Name: pupper, dtype: int64"
      ]
     },
     "execution_count": 960,
     "metadata": {},
     "output_type": "execute_result"
    }
   ],
   "source": [
    "dogs_rate_clean.pupper.value_counts()"
   ]
  },
  {
   "cell_type": "code",
   "execution_count": 961,
   "id": "b36f0335",
   "metadata": {
    "ExecuteTime": {
     "end_time": "2022-12-22T11:52:30.066951Z",
     "start_time": "2022-12-22T11:52:30.039029Z"
    }
   },
   "outputs": [
    {
     "data": {
      "text/plain": [
       "         2049\n",
       "puppo      24\n",
       "Name: puppo, dtype: int64"
      ]
     },
     "execution_count": 961,
     "metadata": {},
     "output_type": "execute_result"
    }
   ],
   "source": [
    "dogs_rate_clean.puppo.value_counts()"
   ]
  },
  {
   "cell_type": "markdown",
   "id": "536e7e20",
   "metadata": {},
   "source": [
    "#### Correct all 'rating_denominator' values to 10 and correct all 'rating_numerator' values by 'rating_denominator' column"
   ]
  },
  {
   "cell_type": "code",
   "execution_count": 962,
   "id": "01ab3da1",
   "metadata": {
    "ExecuteTime": {
     "end_time": "2022-12-22T11:52:31.321796Z",
     "start_time": "2022-12-22T11:52:30.070938Z"
    }
   },
   "outputs": [],
   "source": [
    "for i,r in dogs_rate_clean.iterrows():\n",
    "    if dogs_rate_clean['rating_denominator'].any!= 10:\n",
    "        x= dogs_rate_clean['rating_denominator']/10\n",
    "        dogs_rate_clean['rating_numerator']= dogs_rate_clean['rating_numerator']/x\n",
    "        dogs_rate_clean['rating_denominator'] = 10\n",
    "        "
   ]
  },
  {
   "cell_type": "markdown",
   "id": "63cf3658",
   "metadata": {},
   "source": [
    "#### Test"
   ]
  },
  {
   "cell_type": "code",
   "execution_count": 963,
   "id": "3f24e837",
   "metadata": {
    "ExecuteTime": {
     "end_time": "2022-12-22T11:52:31.337983Z",
     "start_time": "2022-12-22T11:52:31.321796Z"
    },
    "scrolled": true
   },
   "outputs": [
    {
     "data": {
      "text/plain": [
       "10    2073\n",
       "Name: rating_denominator, dtype: int64"
      ]
     },
     "execution_count": 963,
     "metadata": {},
     "output_type": "execute_result"
    }
   ],
   "source": [
    "dogs_rate_clean['rating_denominator'].value_counts()"
   ]
  },
  {
   "cell_type": "code",
   "execution_count": 964,
   "id": "af5d48dd",
   "metadata": {
    "ExecuteTime": {
     "end_time": "2022-12-22T11:52:31.368594Z",
     "start_time": "2022-12-22T11:52:31.342970Z"
    }
   },
   "outputs": [
    {
     "data": {
      "text/plain": [
       "12.000000      477\n",
       "10.000000      431\n",
       "11.000000      419\n",
       "13.000000      283\n",
       "9.000000       151\n",
       "8.000000        95\n",
       "7.000000        51\n",
       "14.000000       40\n",
       "5.000000        35\n",
       "6.000000        32\n",
       "3.000000        19\n",
       "4.000000        15\n",
       "2.000000        10\n",
       "1.000000         4\n",
       "0.000000         2\n",
       "27.000000        1\n",
       "75.000000        1\n",
       "34.285714        1\n",
       "15.000000        1\n",
       "1776.000000      1\n",
       "8.181818         1\n",
       "6.363636         1\n",
       "26.000000        1\n",
       "420.000000       1\n",
       "Name: rating_numerator, dtype: int64"
      ]
     },
     "execution_count": 964,
     "metadata": {},
     "output_type": "execute_result"
    }
   ],
   "source": [
    "dogs_rate_clean['rating_numerator'].value_counts()"
   ]
  },
  {
   "cell_type": "markdown",
   "id": "7ffdab17",
   "metadata": {},
   "source": [
    "#### Convert 'rating_numerator' dtype to int"
   ]
  },
  {
   "cell_type": "code",
   "execution_count": 965,
   "id": "2e3b44f4",
   "metadata": {
    "ExecuteTime": {
     "end_time": "2022-12-22T11:52:31.400503Z",
     "start_time": "2022-12-22T11:52:31.374599Z"
    }
   },
   "outputs": [],
   "source": [
    "dogs_rate_clean[['rating_numerator']] = dogs_rate_clean[['rating_numerator']].astype(float).astype('int64')"
   ]
  },
  {
   "cell_type": "code",
   "execution_count": 966,
   "id": "b7006fa2",
   "metadata": {
    "ExecuteTime": {
     "end_time": "2022-12-22T11:52:31.416074Z",
     "start_time": "2022-12-22T11:52:31.403462Z"
    }
   },
   "outputs": [
    {
     "data": {
      "text/plain": [
       "12      477\n",
       "10      431\n",
       "11      419\n",
       "13      283\n",
       "9       151\n",
       "8        96\n",
       "7        51\n",
       "14       40\n",
       "5        35\n",
       "6        33\n",
       "3        19\n",
       "4        15\n",
       "2        10\n",
       "1         4\n",
       "0         2\n",
       "26        1\n",
       "1776      1\n",
       "27        1\n",
       "75        1\n",
       "34        1\n",
       "15        1\n",
       "420       1\n",
       "Name: rating_numerator, dtype: int64"
      ]
     },
     "execution_count": 966,
     "metadata": {},
     "output_type": "execute_result"
    }
   ],
   "source": [
    "dogs_rate_clean['rating_numerator'].value_counts()"
   ]
  },
  {
   "cell_type": "markdown",
   "id": "cf5a076c",
   "metadata": {},
   "source": [
    "#### Combine the columns: doggo,floofer,pupper,puppo under stage column"
   ]
  },
  {
   "cell_type": "code",
   "execution_count": 967,
   "id": "7d198129",
   "metadata": {
    "ExecuteTime": {
     "end_time": "2022-12-22T11:52:31.432042Z",
     "start_time": "2022-12-22T11:52:31.419066Z"
    }
   },
   "outputs": [],
   "source": [
    "dogs_rate_clean['stage'] = dogs_rate_clean['doggo'] + dogs_rate_clean['floofer'] + dogs_rate_clean['pupper'] + dogs_rate_clean['puppo']"
   ]
  },
  {
   "cell_type": "markdown",
   "id": "1ffb8519",
   "metadata": {},
   "source": [
    "#### Test"
   ]
  },
  {
   "cell_type": "code",
   "execution_count": 968,
   "id": "53bd4019",
   "metadata": {
    "ExecuteTime": {
     "end_time": "2022-12-22T11:52:31.463628Z",
     "start_time": "2022-12-22T11:52:31.439013Z"
    }
   },
   "outputs": [
    {
     "data": {
      "text/plain": [
       "                1753\n",
       "pupper           210\n",
       "doggo             67\n",
       "puppo             23\n",
       "doggopupper       11\n",
       "floofer            7\n",
       "doggopuppo         1\n",
       "doggofloofer       1\n",
       "Name: stage, dtype: int64"
      ]
     },
     "execution_count": 968,
     "metadata": {},
     "output_type": "execute_result"
    }
   ],
   "source": [
    "dogs_rate_clean['stage'].value_counts()"
   ]
  },
  {
   "cell_type": "markdown",
   "id": "6d76f301",
   "metadata": {},
   "source": [
    "#### doggo, floofer, pupper, puppo, stage columns: change Blank to null"
   ]
  },
  {
   "cell_type": "code",
   "execution_count": 969,
   "id": "4d403ed1",
   "metadata": {
    "ExecuteTime": {
     "end_time": "2022-12-22T11:52:31.495548Z",
     "start_time": "2022-12-22T11:52:31.466627Z"
    }
   },
   "outputs": [],
   "source": [
    "def clean_blank(x):\n",
    "    return x.replace(\"\",np.nan)\n",
    "\n",
    "dogs_rate_clean[['doggo','floofer','pupper','puppo','stage']] = dogs_rate_clean[['doggo','floofer','pupper','puppo','stage']].apply(clean_blank)"
   ]
  },
  {
   "cell_type": "code",
   "execution_count": 970,
   "id": "9fc6ea9b",
   "metadata": {
    "ExecuteTime": {
     "end_time": "2022-12-22T11:52:31.527464Z",
     "start_time": "2022-12-22T11:52:31.506520Z"
    }
   },
   "outputs": [
    {
     "data": {
      "text/plain": [
       "pupper          210\n",
       "doggo            67\n",
       "puppo            23\n",
       "doggopupper      11\n",
       "floofer           7\n",
       "doggopuppo        1\n",
       "doggofloofer      1\n",
       "Name: stage, dtype: int64"
      ]
     },
     "execution_count": 970,
     "metadata": {},
     "output_type": "execute_result"
    }
   ],
   "source": [
    "dogs_rate_clean['stage'].value_counts()"
   ]
  },
  {
   "cell_type": "code",
   "execution_count": 971,
   "id": "613ae181",
   "metadata": {
    "ExecuteTime": {
     "end_time": "2022-12-22T11:52:31.557384Z",
     "start_time": "2022-12-22T11:52:31.530455Z"
    }
   },
   "outputs": [
    {
     "name": "stdout",
     "output_type": "stream",
     "text": [
      "<class 'pandas.core.frame.DataFrame'>\n",
      "Int64Index: 2073 entries, 0 to 2355\n",
      "Data columns (total 32 columns):\n",
      " #   Column                      Non-Null Count  Dtype         \n",
      "---  ------                      --------------  -----         \n",
      " 0   tweet_id                    2073 non-null   int64         \n",
      " 1   in_reply_to_status_id       23 non-null     float64       \n",
      " 2   in_reply_to_user_id         23 non-null     float64       \n",
      " 3   timestamp                   2073 non-null   datetime64[ns]\n",
      " 4   source                      2073 non-null   object        \n",
      " 5   text                        2073 non-null   object        \n",
      " 6   retweeted_status_id         79 non-null     float64       \n",
      " 7   retweeted_status_user_id    79 non-null     float64       \n",
      " 8   retweeted_status_timestamp  79 non-null     object        \n",
      " 9   expanded_urls               2073 non-null   object        \n",
      " 10  rating_numerator            2073 non-null   int64         \n",
      " 11  rating_denominator          2073 non-null   int64         \n",
      " 12  name                        1441 non-null   object        \n",
      " 13  doggo                       80 non-null     object        \n",
      " 14  floofer                     8 non-null      object        \n",
      " 15  pupper                      221 non-null    object        \n",
      " 16  puppo                       24 non-null     object        \n",
      " 17  jpg_url                     2073 non-null   object        \n",
      " 18  img_num                     2073 non-null   int64         \n",
      " 19  p1                          2073 non-null   object        \n",
      " 20  p1_conf                     2073 non-null   float64       \n",
      " 21  p1_dog                      2073 non-null   object        \n",
      " 22  p2                          2073 non-null   object        \n",
      " 23  p2_conf                     2073 non-null   float64       \n",
      " 24  p2_dog                      2073 non-null   object        \n",
      " 25  p3                          2073 non-null   object        \n",
      " 26  p3_conf                     2073 non-null   float64       \n",
      " 27  p3_dog                      2073 non-null   object        \n",
      " 28  id                          2073 non-null   float64       \n",
      " 29  retweet_count               2073 non-null   int64         \n",
      " 30  favorite_count              2073 non-null   int64         \n",
      " 31  stage                       320 non-null    object        \n",
      "dtypes: datetime64[ns](1), float64(8), int64(6), object(17)\n",
      "memory usage: 534.4+ KB\n"
     ]
    }
   ],
   "source": [
    "dogs_rate_clean.info()"
   ]
  },
  {
   "cell_type": "markdown",
   "id": "ec3c9ea0",
   "metadata": {},
   "source": [
    "#### Drop the mixed stage dogs (small percentage of the data)"
   ]
  },
  {
   "cell_type": "code",
   "execution_count": 972,
   "id": "309019bd",
   "metadata": {
    "ExecuteTime": {
     "end_time": "2022-12-22T11:52:31.588300Z",
     "start_time": "2022-12-22T11:52:31.562376Z"
    }
   },
   "outputs": [],
   "source": [
    "invalid_stage = ['doggopupper','doggopuppo','doggofloofer']\n",
    "dogs_rate_clean = dogs_rate_clean[-dogs_rate_clean['stage'].isin(invalid_stage)]"
   ]
  },
  {
   "cell_type": "code",
   "execution_count": 973,
   "id": "0381d7e5",
   "metadata": {
    "ExecuteTime": {
     "end_time": "2022-12-22T11:52:31.620220Z",
     "start_time": "2022-12-22T11:52:31.591292Z"
    }
   },
   "outputs": [
    {
     "data": {
      "text/plain": [
       "pupper     210\n",
       "doggo       67\n",
       "puppo       23\n",
       "floofer      7\n",
       "Name: stage, dtype: int64"
      ]
     },
     "execution_count": 973,
     "metadata": {},
     "output_type": "execute_result"
    }
   ],
   "source": [
    "dogs_rate_clean['stage'].value_counts()"
   ]
  },
  {
   "cell_type": "markdown",
   "id": "acfff65b",
   "metadata": {},
   "source": [
    "#### Drop the irrelevant columns: doggo, pupper, puppo, floofer "
   ]
  },
  {
   "cell_type": "code",
   "execution_count": 974,
   "id": "6a9d1f47",
   "metadata": {
    "ExecuteTime": {
     "end_time": "2022-12-22T11:52:31.651182Z",
     "start_time": "2022-12-22T11:52:31.624206Z"
    }
   },
   "outputs": [],
   "source": [
    "dogs_rate_clean = dogs_rate_clean.drop(['doggo','floofer','pupper','puppo'], axis=1)"
   ]
  },
  {
   "cell_type": "code",
   "execution_count": 975,
   "id": "ce65841e",
   "metadata": {
    "ExecuteTime": {
     "end_time": "2022-12-22T11:52:31.667133Z",
     "start_time": "2022-12-22T11:52:31.655164Z"
    },
    "scrolled": true
   },
   "outputs": [
    {
     "data": {
      "text/plain": [
       "Index(['tweet_id', 'in_reply_to_status_id', 'in_reply_to_user_id', 'timestamp',\n",
       "       'source', 'text', 'retweeted_status_id', 'retweeted_status_user_id',\n",
       "       'retweeted_status_timestamp', 'expanded_urls', 'rating_numerator',\n",
       "       'rating_denominator', 'name', 'jpg_url', 'img_num', 'p1', 'p1_conf',\n",
       "       'p1_dog', 'p2', 'p2_conf', 'p2_dog', 'p3', 'p3_conf', 'p3_dog', 'id',\n",
       "       'retweet_count', 'favorite_count', 'stage'],\n",
       "      dtype='object')"
      ]
     },
     "execution_count": 975,
     "metadata": {},
     "output_type": "execute_result"
    }
   ],
   "source": [
    "dogs_rate_clean.columns"
   ]
  },
  {
   "cell_type": "markdown",
   "id": "0199696c",
   "metadata": {},
   "source": [
    "## Test (Summary)"
   ]
  },
  {
   "cell_type": "code",
   "execution_count": 976,
   "id": "7c7653d4",
   "metadata": {
    "ExecuteTime": {
     "end_time": "2022-12-22T11:52:31.714001Z",
     "start_time": "2022-12-22T11:52:31.671118Z"
    }
   },
   "outputs": [
    {
     "data": {
      "text/html": [
       "<div>\n",
       "<style scoped>\n",
       "    .dataframe tbody tr th:only-of-type {\n",
       "        vertical-align: middle;\n",
       "    }\n",
       "\n",
       "    .dataframe tbody tr th {\n",
       "        vertical-align: top;\n",
       "    }\n",
       "\n",
       "    .dataframe thead th {\n",
       "        text-align: right;\n",
       "    }\n",
       "</style>\n",
       "<table border=\"1\" class=\"dataframe\">\n",
       "  <thead>\n",
       "    <tr style=\"text-align: right;\">\n",
       "      <th></th>\n",
       "      <th>tweet_id</th>\n",
       "      <th>in_reply_to_status_id</th>\n",
       "      <th>in_reply_to_user_id</th>\n",
       "      <th>timestamp</th>\n",
       "      <th>source</th>\n",
       "      <th>text</th>\n",
       "      <th>retweeted_status_id</th>\n",
       "      <th>retweeted_status_user_id</th>\n",
       "      <th>retweeted_status_timestamp</th>\n",
       "      <th>expanded_urls</th>\n",
       "      <th>rating_numerator</th>\n",
       "      <th>rating_denominator</th>\n",
       "      <th>name</th>\n",
       "      <th>jpg_url</th>\n",
       "      <th>img_num</th>\n",
       "      <th>p1</th>\n",
       "      <th>p1_conf</th>\n",
       "      <th>p1_dog</th>\n",
       "      <th>p2</th>\n",
       "      <th>p2_conf</th>\n",
       "      <th>p2_dog</th>\n",
       "      <th>p3</th>\n",
       "      <th>p3_conf</th>\n",
       "      <th>p3_dog</th>\n",
       "      <th>id</th>\n",
       "      <th>retweet_count</th>\n",
       "      <th>favorite_count</th>\n",
       "      <th>stage</th>\n",
       "    </tr>\n",
       "  </thead>\n",
       "  <tbody>\n",
       "    <tr>\n",
       "      <th>0</th>\n",
       "      <td>892420643555336193</td>\n",
       "      <td>NaN</td>\n",
       "      <td>NaN</td>\n",
       "      <td>2017-08-01 16:23:56</td>\n",
       "      <td>&lt;a href=\"http://twitter.com/download/iphone\" rel=\"nofollow\"&gt;Twitter for iPhone&lt;/a&gt;</td>\n",
       "      <td>This is Phineas. He's a mystical boy. Only ever appears in the hole of a donut. 13/10 https://t.co/MgUWQ76dJU</td>\n",
       "      <td>NaN</td>\n",
       "      <td>NaN</td>\n",
       "      <td>NaN</td>\n",
       "      <td>https://twitter.com/dog_rates/status/892420643555336193/photo/1</td>\n",
       "      <td>13</td>\n",
       "      <td>10</td>\n",
       "      <td>Phineas</td>\n",
       "      <td>https://pbs.twimg.com/media/DGKD1-bXoAAIAUK.jpg</td>\n",
       "      <td>1</td>\n",
       "      <td>orange</td>\n",
       "      <td>0.097049</td>\n",
       "      <td>False</td>\n",
       "      <td>bagel</td>\n",
       "      <td>0.085851</td>\n",
       "      <td>False</td>\n",
       "      <td>banana</td>\n",
       "      <td>0.076110</td>\n",
       "      <td>False</td>\n",
       "      <td>8.924206e+17</td>\n",
       "      <td>8853</td>\n",
       "      <td>39467</td>\n",
       "      <td>NaN</td>\n",
       "    </tr>\n",
       "    <tr>\n",
       "      <th>1</th>\n",
       "      <td>892177421306343426</td>\n",
       "      <td>NaN</td>\n",
       "      <td>NaN</td>\n",
       "      <td>2017-08-01 00:17:27</td>\n",
       "      <td>&lt;a href=\"http://twitter.com/download/iphone\" rel=\"nofollow\"&gt;Twitter for iPhone&lt;/a&gt;</td>\n",
       "      <td>This is Tilly. She's just checking pup on you. Hopes you're doing ok. If not, she's available for pats, snugs, boops, the whole bit. 13/10 https://t.co/0Xxu71qeIV</td>\n",
       "      <td>NaN</td>\n",
       "      <td>NaN</td>\n",
       "      <td>NaN</td>\n",
       "      <td>https://twitter.com/dog_rates/status/892177421306343426/photo/1</td>\n",
       "      <td>13</td>\n",
       "      <td>10</td>\n",
       "      <td>Tilly</td>\n",
       "      <td>https://pbs.twimg.com/media/DGGmoV4XsAAUL6n.jpg</td>\n",
       "      <td>1</td>\n",
       "      <td>chihuahua</td>\n",
       "      <td>0.323581</td>\n",
       "      <td>True</td>\n",
       "      <td>pekinese</td>\n",
       "      <td>0.090647</td>\n",
       "      <td>True</td>\n",
       "      <td>papillon</td>\n",
       "      <td>0.068957</td>\n",
       "      <td>True</td>\n",
       "      <td>8.921774e+17</td>\n",
       "      <td>6514</td>\n",
       "      <td>33819</td>\n",
       "      <td>NaN</td>\n",
       "    </tr>\n",
       "    <tr>\n",
       "      <th>2</th>\n",
       "      <td>891815181378084864</td>\n",
       "      <td>NaN</td>\n",
       "      <td>NaN</td>\n",
       "      <td>2017-07-31 00:18:03</td>\n",
       "      <td>&lt;a href=\"http://twitter.com/download/iphone\" rel=\"nofollow\"&gt;Twitter for iPhone&lt;/a&gt;</td>\n",
       "      <td>This is Archie. He is a rare Norwegian Pouncing Corgo. Lives in the tall grass. You never know when one may strike. 12/10 https://t.co/wUnZnhtVJB</td>\n",
       "      <td>NaN</td>\n",
       "      <td>NaN</td>\n",
       "      <td>NaN</td>\n",
       "      <td>https://twitter.com/dog_rates/status/891815181378084864/photo/1</td>\n",
       "      <td>12</td>\n",
       "      <td>10</td>\n",
       "      <td>Archie</td>\n",
       "      <td>https://pbs.twimg.com/media/DGBdLU1WsAANxJ9.jpg</td>\n",
       "      <td>1</td>\n",
       "      <td>chihuahua</td>\n",
       "      <td>0.716012</td>\n",
       "      <td>True</td>\n",
       "      <td>malamute</td>\n",
       "      <td>0.078253</td>\n",
       "      <td>True</td>\n",
       "      <td>kelpie</td>\n",
       "      <td>0.031379</td>\n",
       "      <td>True</td>\n",
       "      <td>8.918152e+17</td>\n",
       "      <td>4328</td>\n",
       "      <td>25461</td>\n",
       "      <td>NaN</td>\n",
       "    </tr>\n",
       "    <tr>\n",
       "      <th>3</th>\n",
       "      <td>891689557279858688</td>\n",
       "      <td>NaN</td>\n",
       "      <td>NaN</td>\n",
       "      <td>2017-07-30 15:58:51</td>\n",
       "      <td>&lt;a href=\"http://twitter.com/download/iphone\" rel=\"nofollow\"&gt;Twitter for iPhone&lt;/a&gt;</td>\n",
       "      <td>This is Darla. She commenced a snooze mid meal. 13/10 happens to the best of us https://t.co/tD36da7qLQ</td>\n",
       "      <td>NaN</td>\n",
       "      <td>NaN</td>\n",
       "      <td>NaN</td>\n",
       "      <td>https://twitter.com/dog_rates/status/891689557279858688/photo/1</td>\n",
       "      <td>13</td>\n",
       "      <td>10</td>\n",
       "      <td>Darla</td>\n",
       "      <td>https://pbs.twimg.com/media/DF_q7IAWsAEuuN8.jpg</td>\n",
       "      <td>1</td>\n",
       "      <td>paper towel</td>\n",
       "      <td>0.170278</td>\n",
       "      <td>False</td>\n",
       "      <td>labrador retriever</td>\n",
       "      <td>0.168086</td>\n",
       "      <td>True</td>\n",
       "      <td>spatula</td>\n",
       "      <td>0.040836</td>\n",
       "      <td>False</td>\n",
       "      <td>8.916896e+17</td>\n",
       "      <td>8964</td>\n",
       "      <td>42908</td>\n",
       "      <td>NaN</td>\n",
       "    </tr>\n",
       "    <tr>\n",
       "      <th>4</th>\n",
       "      <td>891327558926688256</td>\n",
       "      <td>NaN</td>\n",
       "      <td>NaN</td>\n",
       "      <td>2017-07-29 16:00:24</td>\n",
       "      <td>&lt;a href=\"http://twitter.com/download/iphone\" rel=\"nofollow\"&gt;Twitter for iPhone&lt;/a&gt;</td>\n",
       "      <td>This is Franklin. He would like you to stop calling him \"cute.\" He is a very fierce shark and should be respected as such. 12/10 #BarkWeek https://t.co/AtUZn91f7f</td>\n",
       "      <td>NaN</td>\n",
       "      <td>NaN</td>\n",
       "      <td>NaN</td>\n",
       "      <td>https://twitter.com/dog_rates/status/891327558926688256/photo/1,https://twitter.com/dog_rates/status/891327558926688256/photo/1</td>\n",
       "      <td>12</td>\n",
       "      <td>10</td>\n",
       "      <td>Franklin</td>\n",
       "      <td>https://pbs.twimg.com/media/DF6hr6BUMAAzZgT.jpg</td>\n",
       "      <td>2</td>\n",
       "      <td>basset</td>\n",
       "      <td>0.555712</td>\n",
       "      <td>True</td>\n",
       "      <td>english springer</td>\n",
       "      <td>0.225770</td>\n",
       "      <td>True</td>\n",
       "      <td>german short-haired pointer</td>\n",
       "      <td>0.175219</td>\n",
       "      <td>True</td>\n",
       "      <td>8.913276e+17</td>\n",
       "      <td>9774</td>\n",
       "      <td>41048</td>\n",
       "      <td>NaN</td>\n",
       "    </tr>\n",
       "  </tbody>\n",
       "</table>\n",
       "</div>"
      ],
      "text/plain": [
       "             tweet_id  in_reply_to_status_id  in_reply_to_user_id  \\\n",
       "0  892420643555336193                    NaN                  NaN   \n",
       "1  892177421306343426                    NaN                  NaN   \n",
       "2  891815181378084864                    NaN                  NaN   \n",
       "3  891689557279858688                    NaN                  NaN   \n",
       "4  891327558926688256                    NaN                  NaN   \n",
       "\n",
       "            timestamp  \\\n",
       "0 2017-08-01 16:23:56   \n",
       "1 2017-08-01 00:17:27   \n",
       "2 2017-07-31 00:18:03   \n",
       "3 2017-07-30 15:58:51   \n",
       "4 2017-07-29 16:00:24   \n",
       "\n",
       "                                                                               source  \\\n",
       "0  <a href=\"http://twitter.com/download/iphone\" rel=\"nofollow\">Twitter for iPhone</a>   \n",
       "1  <a href=\"http://twitter.com/download/iphone\" rel=\"nofollow\">Twitter for iPhone</a>   \n",
       "2  <a href=\"http://twitter.com/download/iphone\" rel=\"nofollow\">Twitter for iPhone</a>   \n",
       "3  <a href=\"http://twitter.com/download/iphone\" rel=\"nofollow\">Twitter for iPhone</a>   \n",
       "4  <a href=\"http://twitter.com/download/iphone\" rel=\"nofollow\">Twitter for iPhone</a>   \n",
       "\n",
       "                                                                                                                                                                 text  \\\n",
       "0                                                       This is Phineas. He's a mystical boy. Only ever appears in the hole of a donut. 13/10 https://t.co/MgUWQ76dJU   \n",
       "1  This is Tilly. She's just checking pup on you. Hopes you're doing ok. If not, she's available for pats, snugs, boops, the whole bit. 13/10 https://t.co/0Xxu71qeIV   \n",
       "2                   This is Archie. He is a rare Norwegian Pouncing Corgo. Lives in the tall grass. You never know when one may strike. 12/10 https://t.co/wUnZnhtVJB   \n",
       "3                                                             This is Darla. She commenced a snooze mid meal. 13/10 happens to the best of us https://t.co/tD36da7qLQ   \n",
       "4  This is Franklin. He would like you to stop calling him \"cute.\" He is a very fierce shark and should be respected as such. 12/10 #BarkWeek https://t.co/AtUZn91f7f   \n",
       "\n",
       "   retweeted_status_id  retweeted_status_user_id retweeted_status_timestamp  \\\n",
       "0                  NaN                       NaN                        NaN   \n",
       "1                  NaN                       NaN                        NaN   \n",
       "2                  NaN                       NaN                        NaN   \n",
       "3                  NaN                       NaN                        NaN   \n",
       "4                  NaN                       NaN                        NaN   \n",
       "\n",
       "                                                                                                                     expanded_urls  \\\n",
       "0                                                                  https://twitter.com/dog_rates/status/892420643555336193/photo/1   \n",
       "1                                                                  https://twitter.com/dog_rates/status/892177421306343426/photo/1   \n",
       "2                                                                  https://twitter.com/dog_rates/status/891815181378084864/photo/1   \n",
       "3                                                                  https://twitter.com/dog_rates/status/891689557279858688/photo/1   \n",
       "4  https://twitter.com/dog_rates/status/891327558926688256/photo/1,https://twitter.com/dog_rates/status/891327558926688256/photo/1   \n",
       "\n",
       "   rating_numerator  rating_denominator      name  \\\n",
       "0                13                  10   Phineas   \n",
       "1                13                  10     Tilly   \n",
       "2                12                  10    Archie   \n",
       "3                13                  10     Darla   \n",
       "4                12                  10  Franklin   \n",
       "\n",
       "                                           jpg_url  img_num           p1  \\\n",
       "0  https://pbs.twimg.com/media/DGKD1-bXoAAIAUK.jpg        1       orange   \n",
       "1  https://pbs.twimg.com/media/DGGmoV4XsAAUL6n.jpg        1    chihuahua   \n",
       "2  https://pbs.twimg.com/media/DGBdLU1WsAANxJ9.jpg        1    chihuahua   \n",
       "3  https://pbs.twimg.com/media/DF_q7IAWsAEuuN8.jpg        1  paper towel   \n",
       "4  https://pbs.twimg.com/media/DF6hr6BUMAAzZgT.jpg        2       basset   \n",
       "\n",
       "    p1_conf p1_dog                  p2   p2_conf p2_dog  \\\n",
       "0  0.097049  False               bagel  0.085851  False   \n",
       "1  0.323581   True            pekinese  0.090647   True   \n",
       "2  0.716012   True            malamute  0.078253   True   \n",
       "3  0.170278  False  labrador retriever  0.168086   True   \n",
       "4  0.555712   True    english springer  0.225770   True   \n",
       "\n",
       "                            p3   p3_conf p3_dog            id  retweet_count  \\\n",
       "0                       banana  0.076110  False  8.924206e+17           8853   \n",
       "1                     papillon  0.068957   True  8.921774e+17           6514   \n",
       "2                       kelpie  0.031379   True  8.918152e+17           4328   \n",
       "3                      spatula  0.040836  False  8.916896e+17           8964   \n",
       "4  german short-haired pointer  0.175219   True  8.913276e+17           9774   \n",
       "\n",
       "   favorite_count stage  \n",
       "0           39467   NaN  \n",
       "1           33819   NaN  \n",
       "2           25461   NaN  \n",
       "3           42908   NaN  \n",
       "4           41048   NaN  "
      ]
     },
     "execution_count": 976,
     "metadata": {},
     "output_type": "execute_result"
    }
   ],
   "source": [
    "dogs_rate_clean.head()"
   ]
  },
  {
   "cell_type": "code",
   "execution_count": 977,
   "id": "ff5bf3b1",
   "metadata": {
    "ExecuteTime": {
     "end_time": "2022-12-22T11:52:31.728966Z",
     "start_time": "2022-12-22T11:52:31.717997Z"
    }
   },
   "outputs": [
    {
     "data": {
      "text/plain": [
       "Index(['tweet_id', 'in_reply_to_status_id', 'in_reply_to_user_id', 'timestamp',\n",
       "       'source', 'text', 'retweeted_status_id', 'retweeted_status_user_id',\n",
       "       'retweeted_status_timestamp', 'expanded_urls', 'rating_numerator',\n",
       "       'rating_denominator', 'name', 'jpg_url', 'img_num', 'p1', 'p1_conf',\n",
       "       'p1_dog', 'p2', 'p2_conf', 'p2_dog', 'p3', 'p3_conf', 'p3_dog', 'id',\n",
       "       'retweet_count', 'favorite_count', 'stage'],\n",
       "      dtype='object')"
      ]
     },
     "execution_count": 977,
     "metadata": {},
     "output_type": "execute_result"
    }
   ],
   "source": [
    "dogs_rate_clean.columns"
   ]
  },
  {
   "cell_type": "code",
   "execution_count": 978,
   "id": "13ca7337",
   "metadata": {
    "ExecuteTime": {
     "end_time": "2022-12-22T11:52:31.759881Z",
     "start_time": "2022-12-22T11:52:31.734947Z"
    }
   },
   "outputs": [
    {
     "name": "stdout",
     "output_type": "stream",
     "text": [
      "<class 'pandas.core.frame.DataFrame'>\n",
      "Int64Index: 2060 entries, 0 to 2355\n",
      "Data columns (total 28 columns):\n",
      " #   Column                      Non-Null Count  Dtype         \n",
      "---  ------                      --------------  -----         \n",
      " 0   tweet_id                    2060 non-null   int64         \n",
      " 1   in_reply_to_status_id       22 non-null     float64       \n",
      " 2   in_reply_to_user_id         22 non-null     float64       \n",
      " 3   timestamp                   2060 non-null   datetime64[ns]\n",
      " 4   source                      2060 non-null   object        \n",
      " 5   text                        2060 non-null   object        \n",
      " 6   retweeted_status_id         77 non-null     float64       \n",
      " 7   retweeted_status_user_id    77 non-null     float64       \n",
      " 8   retweeted_status_timestamp  77 non-null     object        \n",
      " 9   expanded_urls               2060 non-null   object        \n",
      " 10  rating_numerator            2060 non-null   int64         \n",
      " 11  rating_denominator          2060 non-null   int64         \n",
      " 12  name                        1435 non-null   object        \n",
      " 13  jpg_url                     2060 non-null   object        \n",
      " 14  img_num                     2060 non-null   int64         \n",
      " 15  p1                          2060 non-null   object        \n",
      " 16  p1_conf                     2060 non-null   float64       \n",
      " 17  p1_dog                      2060 non-null   object        \n",
      " 18  p2                          2060 non-null   object        \n",
      " 19  p2_conf                     2060 non-null   float64       \n",
      " 20  p2_dog                      2060 non-null   object        \n",
      " 21  p3                          2060 non-null   object        \n",
      " 22  p3_conf                     2060 non-null   float64       \n",
      " 23  p3_dog                      2060 non-null   object        \n",
      " 24  id                          2060 non-null   float64       \n",
      " 25  retweet_count               2060 non-null   int64         \n",
      " 26  favorite_count              2060 non-null   int64         \n",
      " 27  stage                       307 non-null    object        \n",
      "dtypes: datetime64[ns](1), float64(8), int64(6), object(13)\n",
      "memory usage: 466.7+ KB\n"
     ]
    }
   ],
   "source": [
    "dogs_rate_clean.info()"
   ]
  },
  {
   "cell_type": "code",
   "execution_count": 979,
   "id": "b85beff8",
   "metadata": {
    "ExecuteTime": {
     "end_time": "2022-12-22T11:52:31.790798Z",
     "start_time": "2022-12-22T11:52:31.763871Z"
    }
   },
   "outputs": [
    {
     "data": {
      "text/plain": [
       "(2060, 28)"
      ]
     },
     "execution_count": 979,
     "metadata": {},
     "output_type": "execute_result"
    }
   ],
   "source": [
    "dogs_rate_clean.shape"
   ]
  },
  {
   "cell_type": "markdown",
   "id": "7c66dadb",
   "metadata": {},
   "source": [
    "## Analyzing and Visualizing Data"
   ]
  },
  {
   "cell_type": "code",
   "execution_count": 980,
   "id": "bf47a0bf",
   "metadata": {
    "ExecuteTime": {
     "end_time": "2022-12-22T11:52:31.805759Z",
     "start_time": "2022-12-22T11:52:31.794787Z"
    }
   },
   "outputs": [],
   "source": [
    "import matplotlib.pyplot as plt"
   ]
  },
  {
   "cell_type": "markdown",
   "id": "f04cc606",
   "metadata": {
    "ExecuteTime": {
     "end_time": "2022-12-22T09:47:08.717161Z",
     "start_time": "2022-12-22T09:47:08.707218Z"
    }
   },
   "source": [
    "#### The two quantitative variables have a positive linear relationship"
   ]
  },
  {
   "cell_type": "code",
   "execution_count": 981,
   "id": "b1057141",
   "metadata": {
    "ExecuteTime": {
     "end_time": "2022-12-22T11:52:32.439547Z",
     "start_time": "2022-12-22T11:52:31.810750Z"
    },
    "scrolled": true
   },
   "outputs": [
    {
     "data": {
      "image/png": "[encoded data removed]",
      "text/plain": [
       "<Figure size 432x288 with 1 Axes>"
      ]
     },
     "metadata": {
      "needs_background": "light"
     },
     "output_type": "display_data"
    }
   ],
   "source": [
    "dogs_rate_clean.plot(x=\"retweet_count\", y = \"favorite_count\", kind=\"scatter\")\n",
    "plt.show()\n"
   ]
  },
  {
   "cell_type": "markdown",
   "id": "15ff4c1c",
   "metadata": {},
   "source": [
    "#### Top 10 breeds of dog, according to the 1st prediction of the breed of dog based on its image"
   ]
  },
  {
   "cell_type": "code",
   "execution_count": 982,
   "id": "5d29eede",
   "metadata": {
    "ExecuteTime": {
     "end_time": "2022-12-22T11:52:32.454564Z",
     "start_time": "2022-12-22T11:52:32.443595Z"
    }
   },
   "outputs": [
    {
     "name": "stdout",
     "output_type": "stream",
     "text": [
      "golden retriever      144\n",
      "labrador retriever     99\n",
      "pembroke               88\n",
      "chihuahua              83\n",
      "pug                    57\n",
      "chow                   44\n",
      "samoyed                43\n",
      "toy poodle             39\n",
      "pomeranian             38\n",
      "cocker spaniel         30\n",
      "Name: p1, dtype: int64\n"
     ]
    }
   ],
   "source": [
    "top_breeds = dogs_rate_clean.p1.value_counts()\n",
    "top_breeds = top_breeds.nlargest(10)\n",
    "print(top_breeds)"
   ]
  },
  {
   "cell_type": "markdown",
   "id": "bd02b17a",
   "metadata": {},
   "source": [
    "#### Top 10 common dog names"
   ]
  },
  {
   "cell_type": "code",
   "execution_count": 983,
   "id": "ea2aa064",
   "metadata": {
    "ExecuteTime": {
     "end_time": "2022-12-22T11:52:32.485660Z",
     "start_time": "2022-12-22T11:52:32.457564Z"
    }
   },
   "outputs": [
    {
     "name": "stdout",
     "output_type": "stream",
     "text": [
      "Charlie    11\n",
      "Tucker     10\n",
      "Cooper     10\n",
      "Penny      10\n",
      "Oliver     10\n",
      "Lucy       10\n",
      "Bo          8\n",
      "Sadie       8\n",
      "Winston     8\n",
      "Lola        8\n",
      "Name: name, dtype: int64\n"
     ]
    }
   ],
   "source": [
    "top_names = dogs_rate_clean.name.value_counts()\n",
    "top_names = top_names.nlargest(10)\n",
    "print(top_names)"
   ]
  },
  {
   "cell_type": "code",
   "execution_count": 984,
   "id": "a060b184",
   "metadata": {
    "ExecuteTime": {
     "end_time": "2022-12-22T11:58:46.290425Z",
     "start_time": "2022-12-22T11:58:46.196254Z"
    }
   },
   "outputs": [],
   "source": [
    "dogs_rate_clean.to_csv('twitter_archive_master.csv', index=False)"
   ]
  }
 ],
 "metadata": {
  "kernelspec": {
   "display_name": "Python 3 (ipykernel)",
   "language": "python",
   "name": "python3"
  },
  "language_info": {
   "codemirror_mode": {
    "name": "ipython",
    "version": 3
   },
   "file_extension": ".py",
   "mimetype": "text/x-python",
   "name": "python",
   "nbconvert_exporter": "python",
   "pygments_lexer": "ipython3",
   "version": "3.9.7"
  }
 },
 "nbformat": 4,
 "nbformat_minor": 5
}
